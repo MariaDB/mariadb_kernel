{
 "cells": [
  {
   "cell_type": "markdown",
   "id": "218664ae-41a6-4566-bb38-e41ad35343fe",
   "metadata": {},
   "source": [
    "# A Smörgåsbord of delicious new MariaDB Features\n",
    "\n",
    "## Welcome to Country\n",
    "\n",
    "I begin today by acknowledging the Wurundjeri Woi Wurrung people of the Kulin Nation, Traditional Custodians of the land on which we gather today, and pay my respects to their Elders past and present. I extend that respect to Aborigines and Torres Strait Islanders here today."
   ]
  },
  {
   "cell_type": "markdown",
   "id": "f3e4a604-c509-4198-b137-4aacf5d5dc46",
   "metadata": {},
   "source": [
    "# (Optional) Follow along with your own Web Instance"
   ]
  },
  {
   "attachments": {
    "1196648e-4151-4802-8be9-47ffb16f3163.png": {
     "image/png": "[encoded data removed]"
    }
   },
   "cell_type": "markdown",
   "id": "96c2d79c-3ec1-4183-a448-786a5ea749cf",
   "metadata": {},
   "source": [
    "![image.png](attachment:1196648e-4151-4802-8be9-47ffb16f3163.png)\n",
    "\n",
    "## http://tiny.cc/mariadb-delicious"
   ]
  },
  {
   "cell_type": "markdown",
   "id": "a390261a-4d73-414b-ae52-9ec2ca8591a6",
   "metadata": {},
   "source": [
    "## New Features\n",
    "\n",
    "New? 10.6 - GA August 2021 was until this year, the last LTS.\n",
    "\n",
    "This talk covers 10.7+, which started GA in Feb 2022"
   ]
  },
  {
   "cell_type": "code",
   "execution_count": null,
   "id": "fba338e0-44d2-44a1-ab97-b7add62470ce",
   "metadata": {
    "tags": []
   },
   "outputs": [
    {
     "data": {
      "text/html": [
       "<html><body><table border=\"1\" style=\"margin-left: 0\"><tr><th style=\"text-align:left;white-space:pre\">version()</th></tr><tr><td style=\"text-align:left;white-space:pre\">10.11.2-MariaDB-1:10.11.2+maria~ubu2204</td></tr></table></body></html>"
      ]
     },
     "metadata": {},
     "output_type": "display_data"
    }
   ],
   "source": [
    "select version();"
   ]
  },
  {
   "cell_type": "markdown",
   "id": "cfa76da3-efdb-4e53-9232-3d97fa91b632",
   "metadata": {},
   "source": [
    "## UUID is a datatype\n",
    "\n",
    "Added 10.7"
   ]
  },
  {
   "cell_type": "code",
   "execution_count": null,
   "id": "c9a09060-ee46-4ee0-97ae-414e379ef1c9",
   "metadata": {
    "tags": []
   },
   "outputs": [],
   "source": [
    "use test;\n",
    "CREATE TABLE uuidt1 (id UUID);\n",
    "INSERT INTO uuidt1 VALUES ('123e4567-e89b-12d3-a456-426655440000');\n",
    "SELECT * FROM uuidt1;"
   ]
  },
  {
   "cell_type": "code",
   "execution_count": null,
   "id": "2e6303e0-06af-45b9-933a-5fea2dfcd0f9",
   "metadata": {
    "tags": []
   },
   "outputs": [],
   "source": [
    "SELECT CAST(x'102030405000000000000000adcefeff' AS UUID);"
   ]
  },
  {
   "cell_type": "code",
   "execution_count": null,
   "id": "634153dc-742f-4459-8bef-fef3294f35d3",
   "metadata": {
    "tags": []
   },
   "outputs": [],
   "source": [
    "CREATE OR REPLACE TABLE uuidt2 (\n",
    "c1 UUID DEFAULT 0x00000000000000000000000000000000,\n",
    "c2 UUID DEFAULT 0xFFFFFFFFFFFFFFFFFFFFFFFFFFFFFFFF,\n",
    "c3 UUID DEFAULT '00000000-0000-0000-0000-000000000000',\n",
    "c4 UUID DEFAULT 'ffffffff-ffff-ffff-ffff-ffffffffffff',\n",
    "c5 UUID DEFAULT CAST(X'FFFFFFFFFFFFFFFFFFFFFFFFFFFFFFFF' AS UUID)\n",
    ");"
   ]
  },
  {
   "cell_type": "code",
   "execution_count": null,
   "id": "e4196d0c-8ed9-47bc-927f-acaab15ef359",
   "metadata": {
    "tags": []
   },
   "outputs": [],
   "source": [
    "SELECT CAST('longlive-that-bear-a456-426655440000' AS UUID);"
   ]
  },
  {
   "cell_type": "code",
   "execution_count": null,
   "id": "7ad05bf1-c85b-4499-b8d8-b21ab31b4f9e",
   "metadata": {
    "tags": []
   },
   "outputs": [],
   "source": [
    "SHOW WARNINGS;"
   ]
  },
  {
   "cell_type": "markdown",
   "id": "b7b3cd4b-82eb-4257-bad8-79ae8245799e",
   "metadata": {},
   "source": [
    "Stored like a BINARY(32), looks like a string. Stored in UUIDv4 index friendly for for bulk inserting."
   ]
  },
  {
   "cell_type": "markdown",
   "id": "0eec15df-1b9a-48af-95b1-e1b631fdb1ca",
   "metadata": {},
   "source": [
    "## INET4 data type (10.10+)"
   ]
  },
  {
   "cell_type": "markdown",
   "id": "67a67118-45d4-4e10-811b-910f770e8208",
   "metadata": {},
   "source": [
    "Reminder - INET6 is a 10.5+ datatype for IPv6 and IPv4"
   ]
  },
  {
   "cell_type": "code",
   "execution_count": null,
   "id": "9a5b6999-520b-40a7-a140-bd0fa396d30f",
   "metadata": {
    "tags": []
   },
   "outputs": [],
   "source": [
    "create or replace table inet6_table (ip inet6);\n",
    "insert into inet6_table values (\"::127.0.0.1\"),(\"2001:db8::8a2e:370:7334\");\n",
    "select * from inet6_table where ip=\"2001:0db8:0000:0000:0000:8a2e:0370:7334\";"
   ]
  },
  {
   "cell_type": "code",
   "execution_count": null,
   "id": "0c5e0a26-dbca-4be2-a1ff-081655681721",
   "metadata": {
    "tags": []
   },
   "outputs": [],
   "source": [
    "create or replace table inet4_table(ip inet4);\n",
    "insert into inet4_table values ('127.0.0.1'), ('192.168.0.255'), ('239.2.3.55');\n",
    "select * from inet4_table;"
   ]
  },
  {
   "cell_type": "markdown",
   "id": "f3eca14c-28b3-414b-8d61-972a9e7b53b4",
   "metadata": {},
   "source": [
    "## UCA 14.0.0 (10.10)\n",
    "\n",
    "Unicode 14.0.0 standard from Sept 2021."
   ]
  },
  {
   "cell_type": "code",
   "execution_count": null,
   "id": "1da2ee72-4600-4ef0-bbb2-50a86105bf44",
   "metadata": {
    "tags": []
   },
   "outputs": [],
   "source": [
    "SELECT * FROM INFORMATION_SCHEMA.COLLATIONS where collation_name like 'uca1400_%';"
   ]
  },
  {
   "cell_type": "code",
   "execution_count": null,
   "id": "df656dad-91e8-49f3-8842-e56865c2f54f",
   "metadata": {
    "tags": []
   },
   "outputs": [],
   "source": [
    "create table uca14_t1 (col1 longtext character set utf8mb4 collate uca1400_croatian_ai_ci);"
   ]
  },
  {
   "cell_type": "markdown",
   "id": "e27a6a84-2f69-49ec-a3d9-e68d699b40e4",
   "metadata": {},
   "source": [
    "Note:\n",
    "* as/ai - accent sensitive/ insensitive\n",
    "* cs/ci - case sensitive/ insensitive\n"
   ]
  },
  {
   "cell_type": "markdown",
   "id": "48b8f7d7-bb55-429a-9786-60a9f9c24766",
   "metadata": {},
   "source": [
    "## JSON_EQUALS (10.7)"
   ]
  },
  {
   "cell_type": "code",
   "execution_count": null,
   "id": "9fa7ff8e-58be-444b-918e-7a7fc731c75d",
   "metadata": {
    "tags": []
   },
   "outputs": [],
   "source": [
    "SELECT JSON_EQUALS('{\"a\"   :[1, 2, 3],\"b\":[4]}', '{\"b\":[4],\"a\":[1, 2, 3.0]}');"
   ]
  },
  {
   "cell_type": "code",
   "execution_count": null,
   "id": "cda57200-7488-4c35-b8e9-eabbdc92c426",
   "metadata": {
    "tags": []
   },
   "outputs": [],
   "source": [
    "\n",
    "SELECT JSON_EQUALS('{\"a\":[1, 2, 3]}', '{\"a\":[3, 2, 1]}');"
   ]
  },
  {
   "cell_type": "markdown",
   "id": "7b8bfcfe-528b-476a-b60a-4d2b8bec86e6",
   "metadata": {},
   "source": [
    "## JSON_NORMALIZE (10.7)\n",
    "When `JSON_EQUALS(a , b)`, implies `JSON_NORMALIZE(a) == JSON_NORMALIZE(b)`.\n"
   ]
  },
  {
   "cell_type": "code",
   "execution_count": null,
   "id": "34911667-5a83-4b95-9a67-90bfa037670b",
   "metadata": {
    "tags": []
   },
   "outputs": [],
   "source": [
    "CREATE OR REPLACE TABLE json_normalize_t1 (\n",
    " id BIGINT UNSIGNED NOT NULL AUTO_INCREMENT,\n",
    " val JSON,\n",
    " PRIMARY KEY (id)\n",
    ");"
   ]
  },
  {
   "cell_type": "code",
   "execution_count": null,
   "id": "42c7605e-db6d-471b-86be-7c6b75040497",
   "metadata": {
    "tags": []
   },
   "outputs": [],
   "source": [
    "ALTER TABLE json_normalize_t1\n",
    "   ADD COLUMN jnorm JSON AS (JSON_NORMALIZE(val)) VIRTUAL,\n",
    "   ADD UNIQUE KEY (jnorm);"
   ]
  },
  {
   "cell_type": "code",
   "execution_count": null,
   "id": "d4768857-d3a8-4480-af57-dee735b11bae",
   "metadata": {
    "tags": []
   },
   "outputs": [],
   "source": [
    "INSERT INTO json_normalize_t1 (val) VALUES ('{\"name\":\"alice\",\"color\":\"blue\"}');"
   ]
  },
  {
   "cell_type": "code",
   "execution_count": null,
   "id": "8c2de1b5-56fb-408f-92c6-deffa2d8f1e2",
   "metadata": {
    "tags": []
   },
   "outputs": [],
   "source": [
    "INSERT INTO json_normalize_t1 (val) VALUES ('{ \"color\": \"blue\", \"name\": \"alice\" }');"
   ]
  },
  {
   "cell_type": "markdown",
   "id": "899ed5a2-1c84-48c5-b39f-12d388996f57",
   "metadata": {},
   "source": [
    "## JSON_PRETTY\n",
    "\n",
    "(Alias for JSON_DETAILED) - MySQL compatibility"
   ]
  },
  {
   "cell_type": "code",
   "execution_count": null,
   "id": "80d1b6ab-6e7f-4e26-b371-1f7135aff93f",
   "metadata": {
    "tags": []
   },
   "outputs": [],
   "source": [
    "SELECT JSON_PRETTY('{ \"A\":1,\"B\":[2,3]}');"
   ]
  },
  {
   "cell_type": "markdown",
   "id": "f10239cf-2e6d-4d43-b6b1-6aa9e2395111",
   "metadata": {
    "tags": []
   },
   "source": [
    "## CRC32C (10.8)"
   ]
  },
  {
   "cell_type": "code",
   "execution_count": null,
   "id": "b08df4d7-3341-4c2f-9d52-7340bd0b6e87",
   "metadata": {
    "tags": []
   },
   "outputs": [],
   "source": [
    "SELECT CRC32C('MariaDB');"
   ]
  },
  {
   "cell_type": "markdown",
   "id": "6253f33c-39d8-418d-8055-5ef4a67399bd",
   "metadata": {},
   "source": [
    "## RANDOM_BYTES (10.10)"
   ]
  },
  {
   "cell_type": "code",
   "execution_count": null,
   "id": "c20a31e3-a54d-40c0-a010-5298425fb4ae",
   "metadata": {
    "tags": []
   },
   "outputs": [],
   "source": [
    "SELECT HEX(RANDOM_BYTES(100));"
   ]
  },
  {
   "cell_type": "markdown",
   "id": "6ecfbd37-cd64-4a9e-ab6a-74248cd483c6",
   "metadata": {},
   "source": [
    "## JSON Histograms (10.8)\n",
    "\n",
    "Statistical column information - for query planning."
   ]
  },
  {
   "cell_type": "code",
   "execution_count": null,
   "id": "a5fd95ce-6c4b-47d2-bb18-165887c583ff",
   "metadata": {
    "tags": []
   },
   "outputs": [],
   "source": [
    "CREATE OR REPLACE TABLE JSON_HISTOGRAMS (v varchar(30));"
   ]
  },
  {
   "cell_type": "code",
   "execution_count": null,
   "id": "934018ac-99bd-4b0c-8eb7-16f0c29ea3d3",
   "metadata": {
    "tags": []
   },
   "outputs": [],
   "source": [
    "insert into JSON_HISTOGRAMS SELECT \"Jane\" FROM seq_1_to_20;"
   ]
  },
  {
   "cell_type": "code",
   "execution_count": null,
   "id": "08dd0405-2d47-4478-948d-c3cce0d76de8",
   "metadata": {
    "tags": []
   },
   "outputs": [],
   "source": [
    "insert into JSON_HISTOGRAMS SELECT \"Bob\" FROM seq_1_to_2;"
   ]
  },
  {
   "cell_type": "code",
   "execution_count": null,
   "id": "9bd88c7c-4415-47f9-8ff2-b60032b71a42",
   "metadata": {
    "tags": []
   },
   "outputs": [],
   "source": [
    "insert into JSON_HISTOGRAMS SELECT \"Julie\";"
   ]
  },
  {
   "cell_type": "code",
   "execution_count": null,
   "id": "35699d89-8a1f-4140-8933-f2b8e67f5ba6",
   "metadata": {
    "tags": []
   },
   "outputs": [],
   "source": [
    "SET STATEMENT histogram_type = 'JSON_HB' FOR  ANALYZE TABLE JSON_HISTOGRAMS PERSISTENT FOR ALL;"
   ]
  },
  {
   "cell_type": "code",
   "execution_count": null,
   "id": "6a251e1a-c133-4de0-af9f-576e8eab9c0e",
   "metadata": {
    "tags": []
   },
   "outputs": [],
   "source": [
    "SELECT * FROM mysql.column_stats;"
   ]
  },
  {
   "cell_type": "markdown",
   "id": "b95e7b5d-9db6-4cd9-9246-275bce09705e",
   "metadata": {},
   "source": [
    "## NATURAL_SORT_KEY (10.7)"
   ]
  },
  {
   "cell_type": "code",
   "execution_count": null,
   "id": "c5ebadb7-360b-4dcd-8353-66ddc6da4508",
   "metadata": {
    "tags": []
   },
   "outputs": [],
   "source": [
    "CREATE TABLE nsk_t1 (c TEXT);"
   ]
  },
  {
   "cell_type": "code",
   "execution_count": null,
   "id": "321ffa68-bc5e-42c7-822d-9ca0a1852ad6",
   "metadata": {
    "tags": []
   },
   "outputs": [],
   "source": [
    "insert into nsk_t1 values ('b1'),('a2'),('a11'),('a1');"
   ]
  },
  {
   "cell_type": "code",
   "execution_count": null,
   "id": "edf4b7b2-23c9-49bf-9c1c-6444f4bc2b1e",
   "metadata": {
    "tags": []
   },
   "outputs": [],
   "source": [
    "select c from nsk_t1 order by c;"
   ]
  },
  {
   "cell_type": "code",
   "execution_count": null,
   "id": "aa935219-dffd-43a1-a993-e382ae3073e1",
   "metadata": {
    "tags": []
   },
   "outputs": [],
   "source": [
    "select c from nsk_t1 order by natural_sort_key(c);"
   ]
  },
  {
   "cell_type": "code",
   "execution_count": null,
   "id": "a9665bb8-0a16-4c09-8b59-7228f11f601e",
   "metadata": {
    "tags": []
   },
   "outputs": [],
   "source": [
    "truncate table nsk_t1;"
   ]
  },
  {
   "cell_type": "code",
   "execution_count": null,
   "id": "b70a9f15-2458-4865-ae53-4878313a192a",
   "metadata": {
    "tags": []
   },
   "outputs": [],
   "source": [
    "INSERT INTO nsk_t1 VALUES \n",
    "  ('5.5.31'),('10.7.0'),('10.2.1'),\n",
    "  ('10.1.22'),('10.3.32'),('10.2.12');"
   ]
  },
  {
   "cell_type": "code",
   "execution_count": null,
   "id": "6830af45-702f-45cc-a7a7-ca2a399579bb",
   "metadata": {
    "tags": []
   },
   "outputs": [],
   "source": [
    "select c from nsk_t1 order by natural_sort_key(c);"
   ]
  },
  {
   "cell_type": "code",
   "execution_count": null,
   "id": "2f20508b-5437-4e2e-99a6-2196288cff66",
   "metadata": {
    "tags": []
   },
   "outputs": [],
   "source": [
    "truncate table nsk_t1;"
   ]
  },
  {
   "cell_type": "code",
   "execution_count": null,
   "id": "e925d3d4-8b7a-46aa-9cfb-fc33202204be",
   "metadata": {
    "tags": []
   },
   "outputs": [],
   "source": [
    "INSERT INTO nsk_t1 VALUES \n",
    "  ('192.167.3.1'),('192.167.1.12'),('100.200.300.400'),\n",
    "  ('100.50.60.70'),('100.8.9.9'),('127.0.0.1'),('0.0.0.0');"
   ]
  },
  {
   "cell_type": "code",
   "execution_count": null,
   "id": "2c171460-0b9c-4f62-a121-956077ec2b79",
   "metadata": {
    "tags": []
   },
   "outputs": [],
   "source": [
    "select c from nsk_t1 order by natural_sort_key(c);"
   ]
  },
  {
   "cell_type": "markdown",
   "id": "85a640fe-4de7-493a-8b59-846e650f6c15",
   "metadata": {},
   "source": [
    "## SFORMAT - Python Like formatting (10.7)"
   ]
  },
  {
   "cell_type": "code",
   "execution_count": null,
   "id": "72cfef29-88c4-49da-bffe-ce36571c6d62",
   "metadata": {},
   "outputs": [],
   "source": [
    "select sformat('The temperature is between {:-} and {:-} degrees celsius.', -3, 7);"
   ]
  },
  {
   "cell_type": "code",
   "execution_count": null,
   "id": "ed6b6b86-37d5-4f5f-ae40-cf8d6e0ba943",
   "metadata": {
    "tags": []
   },
   "outputs": [],
   "source": [
    "CREATE TABLE test_sformat(mdb_release char(6), mdev int, feature char(20));"
   ]
  },
  {
   "cell_type": "code",
   "execution_count": null,
   "id": "932d80b5-ed9f-4ef3-ad6f-139414ce8f8d",
   "metadata": {
    "tags": []
   },
   "outputs": [],
   "source": [
    "INSERT INTO test_sformat VALUES('10.7.0', 25015, 'Python style sformat'), \n",
    "  ('10.7.0', 4958, 'UUID');"
   ]
  },
  {
   "cell_type": "code",
   "execution_count": null,
   "id": "af8598bc-7b65-4722-a88b-acf355bf0c5d",
   "metadata": {
    "tags": []
   },
   "outputs": [],
   "source": [
    "\n",
    "SELECT SFORMAT('MariaDB Server {} has a preview for MDEV-{} which is about {}', \n",
    "  mdb_release, mdev, feature) AS 'Preview Release Examples'\n",
    "  FROM test_sformat;"
   ]
  },
  {
   "cell_type": "markdown",
   "id": "988b174e-841e-44d5-97c8-a237faf4505b",
   "metadata": {},
   "source": [
    "## Descending Indexes (10.8.1)"
   ]
  },
  {
   "cell_type": "code",
   "execution_count": null,
   "id": "f593280b-42e1-4fc4-855b-34855a91674c",
   "metadata": {
    "tags": []
   },
   "outputs": [],
   "source": [
    "create or replace table desc_index_t1 (a int, b int, c int, key r (a desc, b asc));\n",
    "insert desc_index_t1 select seq % 10, seq div 10, seq from seq_1_to_55;\n",
    "insert desc_index_t1 values (NULL, NULL, NULL), (9, NULL, NULL);\n"
   ]
  },
  {
   "cell_type": "code",
   "execution_count": null,
   "id": "03652a62-90be-4c49-abf9-ab485dc4946b",
   "metadata": {},
   "outputs": [],
   "source": [
    "\n",
    "analyze format=json select * from desc_index_t1 force index(r) order by a desc,b limit 20;"
   ]
  },
  {
   "cell_type": "code",
   "execution_count": null,
   "id": "4a896169-8bbf-4aef-b9c3-315b31140113",
   "metadata": {
    "tags": []
   },
   "outputs": [],
   "source": [
    "\n",
    "analyze format=json  select * from desc_index_t1 force index(r) order by a asc,b desc limit 20;"
   ]
  },
  {
   "cell_type": "markdown",
   "id": "0e27689e-cc6d-4c18-8501-5a33473f6578",
   "metadata": {},
   "source": [
    "## Convert Partitions (10.7)\n",
    "\n",
    "The previous way paritions where exchanged:"
   ]
  },
  {
   "cell_type": "code",
   "execution_count": null,
   "id": "7d51a38a-aebf-4c08-a4c1-b1e0b55183bd",
   "metadata": {
    "tags": []
   },
   "outputs": [],
   "source": [
    "CREATE OR REPLACE TABLE partitioned_table (\n",
    "        dt DATETIME NOT NULL,  -- or DATE\n",
    "        id int not null auto_increment,\n",
    "        PRIMARY KEY (id, dt)\n",
    "    )\n",
    "    PARTITION BY RANGE (TO_DAYS(dt)) (\n",
    "        PARTITION start        VALUES LESS THAN (0),\n",
    "        PARTITION from20120315 VALUES LESS THAN (TO_DAYS('2012-03-16')),\n",
    "        PARTITION from20120316 VALUES LESS THAN (TO_DAYS('2012-03-17')),\n",
    "        PARTITION from20120414 VALUES LESS THAN (TO_DAYS('2012-04-15')),\n",
    "        PARTITION from20120415 VALUES LESS THAN (TO_DAYS('2012-04-16'))\n",
    "    );\n",
    "\n",
    "-- create an empty non-partitioned table\n",
    "CREATE OR REPLACE TABLE normal_table LIKE partitioned_table;\n",
    "ALTER TABLE normal_table REMOVE PARTITIONING;\n",
    "\n",
    "-- perform the exchange\n",
    "ALTER TABLE partitioned_table EXCHANGE PARTITION start WITH TABLE normal_table;\n",
    "\n",
    "-- and remove the now-empty partition\n",
    "ALTER TABLE partitioned_table DROP PARTITION start;"
   ]
  },
  {
   "cell_type": "markdown",
   "id": "a88a6209-0935-441f-a83d-edc2531fc73a",
   "metadata": {},
   "source": [
    "Converting a table to a partition"
   ]
  },
  {
   "cell_type": "code",
   "execution_count": null,
   "id": "3c770dce-a217-4a32-8bc4-0e6f9cc40c07",
   "metadata": {
    "tags": []
   },
   "outputs": [],
   "source": [
    "CREATE OR REPLACE TABLE normal_table (\n",
    "        dt DATETIME NOT NULL,  -- or DATE\n",
    "        id int not null auto_increment,\n",
    "        PRIMARY KEY (id, dt)\n",
    "    );\n",
    "    \n",
    "insert into normal_table values (now(), 1), (now(), 3);\n",
    "\n",
    "-- create an empty partition\n",
    "ALTER TABLE partitioned_table ADD PARTITION (PARTITION part1 VALUES LESS THAN (TO_DAYS('2024-04-16')));\n",
    "\n",
    "-- perform the exchange\n",
    "ALTER TABLE partitioned_table EXCHANGE PARTITION part1 WITH TABLE normal_table;\n",
    "\n",
    "-- and remove the now-empty table\n",
    "DROP TABLE normal_table;"
   ]
  },
  {
   "cell_type": "markdown",
   "id": "a23c900b-63ab-4d90-8b47-a26c49e1364b",
   "metadata": {},
   "source": [
    "Now with `CONVERT PARTITION` / `CONVERT TABLE`"
   ]
  },
  {
   "cell_type": "code",
   "execution_count": null,
   "id": "6cdb257c-1d01-4cea-ad4b-95764c2a0be1",
   "metadata": {
    "tags": []
   },
   "outputs": [],
   "source": [
    "ALTER TABLE partitioned_table CONVERT PARTITION part1 TO TABLE normal_table;"
   ]
  },
  {
   "cell_type": "code",
   "execution_count": null,
   "id": "2a47ed80-ca7e-4e5f-9bca-f6560324cac0",
   "metadata": {
    "tags": []
   },
   "outputs": [],
   "source": [
    "ALTER TABLE partitioned_table CONVERT TABLE normal_table TO PARTITION part1 VALUES LESS THAN (TO_DAYS('2024-04-16'));"
   ]
  },
  {
   "cell_type": "markdown",
   "id": "e91fe2a1-ebe6-46b5-a074-c05b6536081a",
   "metadata": {},
   "source": [
    "## System Versioning (insert)"
   ]
  },
  {
   "cell_type": "code",
   "execution_count": null,
   "id": "212e22f5-9b03-4241-bc7a-14aeff458945",
   "metadata": {
    "tags": []
   },
   "outputs": [],
   "source": [
    "create or replace table svt1(x int primary key) with system versioning;\n"
   ]
  },
  {
   "cell_type": "code",
   "execution_count": null,
   "id": "421dcfd3-dac9-4092-806a-5fb10863f8d9",
   "metadata": {
    "tags": []
   },
   "outputs": [],
   "source": [
    "set @@system_versioning_insert_history= 1;"
   ]
  },
  {
   "cell_type": "code",
   "execution_count": null,
   "id": "fd0ff088-cb73-4a05-9812-14081d9be7f3",
   "metadata": {
    "tags": []
   },
   "outputs": [],
   "source": [
    "show create table svt1;"
   ]
  },
  {
   "cell_type": "code",
   "execution_count": null,
   "id": "2f6dfb4c-84e6-4279-b0d7-8dbbad429967",
   "metadata": {
    "tags": []
   },
   "outputs": [],
   "source": [
    "insert into svt1(x, row_start, row_end) values (3, '1980-01-01 00:00:00', '1980-01-01 20:00:01');\n"
   ]
  },
  {
   "cell_type": "code",
   "execution_count": null,
   "id": "5ffbc703-701a-4e1b-bbdf-6ddc30b7d426",
   "metadata": {
    "tags": []
   },
   "outputs": [],
   "source": [
    "select * from svt1  FOR SYSTEM_TIME  as of timestamp'1980-01-01 00:00:01';"
   ]
  },
  {
   "cell_type": "code",
   "execution_count": null,
   "id": "4abd9ca5-5109-4d13-b6ee-4907b75dfff0",
   "metadata": {
    "tags": []
   },
   "outputs": [],
   "source": [
    "select * from svt1  FOR SYSTEM_TIME  as of timestamp'1980-01-01 20:00:02';"
   ]
  },
  {
   "cell_type": "code",
   "execution_count": null,
   "id": "bee852fe-32b0-415d-9d04-89b428919046",
   "metadata": {
    "tags": []
   },
   "outputs": [],
   "source": [
    "select * from svt1  FOR SYSTEM_TIME  as of timestamp'1979-12-31 23:59:59';"
   ]
  },
  {
   "cell_type": "markdown",
   "id": "2848f669-5d84-45fd-aae6-8837a6964a26",
   "metadata": {
    "tags": []
   },
   "source": [
    "## Password Reuse Plugin (10.7)"
   ]
  },
  {
   "cell_type": "code",
   "execution_count": null,
   "id": "3e185aff-a3a5-4e46-bb99-fac93e1f595e",
   "metadata": {
    "tags": []
   },
   "outputs": [],
   "source": [
    "INSTALL PLUGIN IF NOT EXISTS password_reuse_check SONAME 'password_reuse_check';"
   ]
  },
  {
   "cell_type": "code",
   "execution_count": null,
   "id": "6e6fc85c-0ef4-4469-af1f-f617fef21ffc",
   "metadata": {
    "tags": []
   },
   "outputs": [],
   "source": [
    "create user pw;"
   ]
  },
  {
   "cell_type": "code",
   "execution_count": null,
   "id": "4e8f603c-fc97-4c77-813f-9b42e90a84d2",
   "metadata": {
    "tags": []
   },
   "outputs": [],
   "source": [
    "set password for pw = password('oh no');"
   ]
  },
  {
   "cell_type": "code",
   "execution_count": null,
   "id": "49893fe3-5796-4efd-a10a-218b7a568d1e",
   "metadata": {
    "tags": []
   },
   "outputs": [],
   "source": [
    "set password for pw = password('oh no');"
   ]
  },
  {
   "cell_type": "markdown",
   "id": "8f7c7fda-af43-4138-ac08-b0f0fd266584",
   "metadata": {},
   "source": [
    "## Hashicorp Key Management Plugin (10.9)"
   ]
  },
  {
   "cell_type": "code",
   "execution_count": null,
   "id": "140b14e0-d3d7-4d84-bb2c-1899ad480e8b",
   "metadata": {
    "tags": []
   },
   "outputs": [],
   "source": [
    "install plugin if not exists hashicorp_key_management SONAME 'hashicorp_key_management';"
   ]
  },
  {
   "cell_type": "markdown",
   "id": "85dfa4a9-194f-4073-9690-e6bac7961b12",
   "metadata": {},
   "source": [
    "## GET_DIAGNOSITCS (ROW_NUMBER) - 10.7+"
   ]
  },
  {
   "cell_type": "code",
   "execution_count": null,
   "id": "4d119b4f-2cae-4fd0-9cd0-ec5a91766d53",
   "metadata": {
    "tags": []
   },
   "outputs": [],
   "source": [
    "CREATE OR REPLACE TABLE gdt1 (id int not null primary key);\n",
    "INSERT INTO gdt1 values(1);\n"
   ]
  },
  {
   "cell_type": "code",
   "execution_count": null,
   "id": "f8d46309-38fd-4d11-baaf-946c6ec725ab",
   "metadata": {
    "tags": []
   },
   "outputs": [],
   "source": [
    "INSERT INTO gdt1 VALUES (4),(1),(2);"
   ]
  },
  {
   "cell_type": "code",
   "execution_count": null,
   "id": "30201bd3-985e-4504-bb91-5b4fe17db0a7",
   "metadata": {
    "tags": []
   },
   "outputs": [],
   "source": [
    "GET DIAGNOSTICS CONDITION 1 @row_num= ROW_NUMBER;"
   ]
  },
  {
   "cell_type": "code",
   "execution_count": null,
   "id": "0f6c6a25-878f-4fb9-a1a8-1297c2c8a97d",
   "metadata": {
    "tags": []
   },
   "outputs": [],
   "source": [
    "SELECT @row_num;"
   ]
  },
  {
   "cell_type": "markdown",
   "id": "6ed53b7d-3779-4942-b973-11e3a51f9c3b",
   "metadata": {},
   "source": [
    "## IN/OUT/INOUT attributes on function arguments (10.8)"
   ]
  },
  {
   "cell_type": "code",
   "execution_count": null,
   "id": "79eab1eb-00f1-4b44-b2f4-f349e3f0e621",
   "metadata": {
    "tags": []
   },
   "outputs": [],
   "source": [
    "DELIMITER $$\n",
    "CREATE OR REPLACE FUNCTION add_func3(IN a INT, IN b INT, OUT c INT) RETURNS INT\n",
    "BEGIN\n",
    "  SET c = 100;\n",
    "  RETURN a + b;\n",
    "END;\n",
    "$$\n",
    "DELIMITER ;"
   ]
  },
  {
   "cell_type": "code",
   "execution_count": null,
   "id": "85a48137-3aae-4d4c-be0e-3fcfeaade791",
   "metadata": {
    "tags": []
   },
   "outputs": [],
   "source": [
    "SET @a = 2;\n",
    "SET @b = 3;\n",
    "SET @c = 0;\n",
    "SET @res= add_func3(@a, @b, @c);"
   ]
  },
  {
   "cell_type": "code",
   "execution_count": null,
   "id": "40f431e8-c80a-4bc2-ba9a-7bd24a24d538",
   "metadata": {
    "tags": []
   },
   "outputs": [],
   "source": [
    "SELECT @a, @b, @c, @res;"
   ]
  },
  {
   "cell_type": "markdown",
   "id": "2bfd65b9-c5a4-4d00-81e1-ac03887b7b05",
   "metadata": {},
   "source": [
    "Note: `SELECT` restriction, `OUT`/`INOUT` on `SET` only"
   ]
  },
  {
   "cell_type": "code",
   "execution_count": null,
   "id": "fe8e1c87-21ad-434f-a489-55b47bffddaf",
   "metadata": {
    "tags": []
   },
   "outputs": [],
   "source": [
    "SELECT add_func3(@a, @b, @c);"
   ]
  },
  {
   "cell_type": "markdown",
   "id": "9ba1978c-701e-4004-887d-66b23ce98fec",
   "metadata": {},
   "source": [
    "## Lag free ALTER TABLE in replication (10.8)"
   ]
  },
  {
   "cell_type": "markdown",
   "id": "c334625c-4ce5-4282-92e0-6a6ce84a7040",
   "metadata": {},
   "source": [
    "ALTER TABLE - pushed to replica before its finished on the master"
   ]
  },
  {
   "cell_type": "code",
   "execution_count": null,
   "id": "a3318ce8-51fd-40cf-b25c-298c9359035a",
   "metadata": {
    "tags": []
   },
   "outputs": [],
   "source": [
    "set @@binlog_alter_two_phase= ON;"
   ]
  },
  {
   "cell_type": "markdown",
   "id": "ab43c128-4ebf-4b2e-95ba-6f60c69b4ffa",
   "metadata": {},
   "source": [
    "## mariadb-binlog GTID support\n",
    "\n",
    "```\n",
    "$ mariadb-binlog --start-position=0-1-3  server.000001 \n",
    "/*!50530 SET @@SESSION.PSEUDO_SLAVE_MODE=1*/;\n",
    "/*!40019 SET @@session.max_insert_delayed_threads=0*/;\n",
    "/*!50003 SET @OLD_COMPLETION_TYPE=@@COMPLETION_TYPE,COMPLETION_TYPE=0*/;\n",
    "DELIMITER /*!*/;\n",
    "# at 4\n",
    "#230315  0:04:10 server id 1  end_log_pos 256 CRC32 0x02c62f93 \tStart: binlog v 4, server v 10.8.8-MariaDB-log created 230315  0:04:10 at startup\n",
    "# Warning: this binlog is either in use or was not closed properly.\n",
    "ROLLBACK/*!*/;\n",
    "BINLOG '\n",
    "ynAQZA8BAAAA/AAAAAABAAABAAQAMTAuOC44LU1hcmlhREItbG9nAAAAAAAAAAAAAAAAAAAAAAAA\n",
    "AAAAAAAAAAAAAAAAAADKcBBkEzgNAAgAEgAEBAQEEgAA5AAEGggAAAAICAgCAAAACgoKAAAAAAAA\n",
    "AAAAAAAAAAAAAAAAAAAAAAAAAAAAAAAAAAAAAAAAAAAAAAAAAAAAAAAAAAAAAAAAAAAAAAAAAAAA\n",
    "AAAAAAAAAAAAAAAAAAAAAAAAAAAAAAAAAAAAAAAAAAAAAAAAAAAAAAAAAAAAAAAAAAAAAAAAAAAA\n",
    "AAAAAAAAAAAEEwQADQgICAoKCgGTL8YC\n",
    "'/*!*/;\n",
    "# at 256\n",
    "#230315  0:04:10 server id 1  end_log_pos 285 CRC32 0xfc90805e \tGtid list []\n",
    "# at 285\n",
    "#230315  0:04:10 server id 1  end_log_pos 325 CRC32 0x746763f9 \tBinlog checkpoint server.000001\n",
    "DELIMITER ;\n",
    "# End of log file\n",
    "ROLLBACK /* added by mysqlbinlog */;\n",
    "/*!50003 SET COMPLETION_TYPE=@OLD_COMPLETION_TYPE*/;\n",
    "/*!50530 SET @@SESSION.PSEUDO_SLAVE_MODE=0*/;\n",
    "/*!100001 SET @@SESSION.SERVER_ID=@@GLOBAL.SERVER_ID */;\n",
    "/*!100001 SET @@SESSION.GTID_DOMAIN_ID=@@GLOBAL.GTID_DOMAIN_ID */;\n",
    "```"
   ]
  },
  {
   "cell_type": "markdown",
   "id": "54539c2f-b10c-4718-aeb3-76989dd25390",
   "metadata": {},
   "source": [
    "## CHANGE MASTER .. MASTER_DEMOTE_TO_SLAVE\n",
    "\n",
    "```\n",
    "/* STOP SLAVE; */\n",
    "\n",
    "CHANGE MASTER TO\n",
    "   MASTER_DEMOTE_TO_SLAVE = 1;\n",
    "START SLAVE;\n",
    "```"
   ]
  },
  {
   "cell_type": "markdown",
   "id": "1bb95472-162f-4475-9eca-4badc5d5a351",
   "metadata": {},
   "source": [
    "## GRANT  ... TO PUBLIC\n",
    "\n",
    "(not the same as anonymous)"
   ]
  },
  {
   "cell_type": "code",
   "execution_count": null,
   "id": "0da46c9f-c4f2-43e4-9756-05e06caf1d82",
   "metadata": {
    "tags": []
   },
   "outputs": [],
   "source": [
    "GRANT SELECT ON test.* TO PUBLIC;"
   ]
  },
  {
   "cell_type": "markdown",
   "id": "93b26fa3-8092-4620-b1ca-028eae036f77",
   "metadata": {},
   "source": [
    "## Read only"
   ]
  },
  {
   "cell_type": "code",
   "execution_count": null,
   "id": "55f029ef-961c-4bc0-b04b-f8c284d9551d",
   "metadata": {
    "tags": []
   },
   "outputs": [],
   "source": [
    "SHOW GRANTS;"
   ]
  },
  {
   "cell_type": "code",
   "execution_count": null,
   "id": "752408ec-ef70-406e-b7cc-8bbdce6725da",
   "metadata": {
    "tags": []
   },
   "outputs": [],
   "source": [
    "revoke READ ONLY ADMIN ON *.* from root@localhost;"
   ]
  },
  {
   "cell_type": "code",
   "execution_count": null,
   "id": "4114db7b-dfec-4b82-a659-09770592f13e",
   "metadata": {
    "tags": []
   },
   "outputs": [],
   "source": [
    "set global read_only=1; -- if a new connection had started, this would fail;"
   ]
  },
  {
   "cell_type": "code",
   "execution_count": null,
   "id": "17b43419-d99d-4ce3-be8a-afbb7846c397",
   "metadata": {
    "tags": []
   },
   "outputs": [],
   "source": [
    "set global read_only=0;"
   ]
  },
  {
   "cell_type": "markdown",
   "id": "e12804e4-9cc7-4ee8-b1fd-513073cddffe",
   "metadata": {},
   "source": [
    "## InnoDB Fast insertion"
   ]
  },
  {
   "cell_type": "code",
   "execution_count": null,
   "id": "490bb329-f42d-413a-84bf-4df367020da3",
   "metadata": {
    "tags": []
   },
   "outputs": [],
   "source": [
    "set @@foreign_key_checks=0, @@unique_checks=0;"
   ]
  },
  {
   "cell_type": "code",
   "execution_count": null,
   "id": "020d8305-61de-492d-9338-89ebed7ffef6",
   "metadata": {
    "tags": []
   },
   "outputs": [],
   "source": [
    "create table innodb_fast as select seq from seq_1_to_300000; -- and LOAD DATA, INSERT INTO .. VALUES  ;"
   ]
  },
  {
   "cell_type": "markdown",
   "id": "8604e042-ebce-4957-88dc-3a933776a8a6",
   "metadata": {},
   "source": [
    "## InnoDB resize undo table spaces\n",
    "\n",
    "(Well on restart)"
   ]
  },
  {
   "cell_type": "code",
   "execution_count": null,
   "id": "097a31c5-795b-41b4-bcb2-e7d93b97b130",
   "metadata": {
    "tags": []
   },
   "outputs": [],
   "source": [
    "set global innodb_undo_tablespaces=4;"
   ]
  },
  {
   "cell_type": "markdown",
   "id": "6c262bbb-a4d3-4e89-bb5f-2a83e4ff553c",
   "metadata": {
    "tags": []
   },
   "source": [
    "## innodb_log_file_size resizable (10.9+)"
   ]
  },
  {
   "cell_type": "code",
   "execution_count": null,
   "id": "5b236694-6e50-45c6-a563-fcada938c98e",
   "metadata": {
    "tags": []
   },
   "outputs": [],
   "source": [
    "select @@innodb_log_file_size;"
   ]
  },
  {
   "cell_type": "code",
   "execution_count": null,
   "id": "096a9b09-c68c-47f1-96ca-c9a36a67c7c4",
   "metadata": {
    "tags": []
   },
   "outputs": [],
   "source": [
    "set global innodb_log_file_size=128*1024*1024;"
   ]
  },
  {
   "cell_type": "code",
   "execution_count": null,
   "id": "1b932d3d-79c0-46dd-b392-02ec66c9d2fd",
   "metadata": {
    "tags": []
   },
   "outputs": [],
   "source": [
    "select @@innodb_log_file_size;"
   ]
  },
  {
   "cell_type": "markdown",
   "id": "f9c0c5d1-4868-47df-95f0-ee4230910214",
   "metadata": {},
   "source": [
    "## InnoDB Change buffer (10.9+ deprecicated and ignored), removed 11.0\n",
    "\n",
    "InnoDB change buffer: Unsafe at any speed -https://fosdem.org/2023/schedule/event/innodb_change_buffer/"
   ]
  },
  {
   "cell_type": "markdown",
   "id": "7c9061eb-e007-46d0-a0c3-203f067690a7",
   "metadata": {},
   "source": [
    "## Apostrophes in FT search"
   ]
  },
  {
   "cell_type": "code",
   "execution_count": null,
   "id": "7cdd4d5e-ff15-4a62-ac98-959445c04ca1",
   "metadata": {
    "tags": []
   },
   "outputs": [],
   "source": [
    "CREATE TABLE ftt1(f1 TINYTEXT NOT NULL, FULLTEXT(f1))ENGINE=InnoDB;\n",
    "INSERT INTO ftt1 VALUES('O''Brien'), ('O Brien'), ('Ö''Brien');\n",
    "INSERT INTO ftt1 VALUES('Brien'), ('O ''Brien'), ('O'' Brien');\n",
    "INSERT INTO ftt1 VALUES('Doh''nuts');\n"
   ]
  },
  {
   "cell_type": "code",
   "execution_count": null,
   "id": "2b51c986-5909-4b54-b2c0-52f74bd7f496",
   "metadata": {
    "tags": []
   },
   "outputs": [],
   "source": [
    "SELECT * FROM ftt1 WHERE MATCH (f1) AGAINST (\"+O'Brien\" IN BOOLEAN MODE);\n"
   ]
  },
  {
   "cell_type": "code",
   "execution_count": null,
   "id": "40d5939a-0e5e-49bf-972a-1cd063ed21ec",
   "metadata": {
    "tags": []
   },
   "outputs": [],
   "source": [
    "SELECT * FROM ftt1 WHERE MATCH (f1) AGAINST (\"+Doh'nuts\" IN BOOLEAN MODE);\n"
   ]
  },
  {
   "cell_type": "code",
   "execution_count": null,
   "id": "d0732b8c-66a3-4920-8fcd-12e936a8667f",
   "metadata": {
    "tags": []
   },
   "outputs": [],
   "source": [
    "SELECT * FROM ftt1 WHERE MATCH (f1) AGAINST (\"+Ö''Brien\" IN BOOLEAN MODE);\n"
   ]
  },
  {
   "cell_type": "markdown",
   "id": "33452b29-3a21-45b1-9c1f-7311762a1500",
   "metadata": {
    "tags": []
   },
   "source": [
    "## innodb buffer pool soft decommit of memory"
   ]
  },
  {
   "cell_type": "markdown",
   "id": "6d620fb8-b724-4a79-b0a5-1d709f242601",
   "metadata": {
    "tags": []
   },
   "source": [
    "```code:c++\n",
    "@@ -1024,7 +1017,7 @@ buf_LRU_block_free_non_file_page(\n",
    " \t\tpthread_cond_signal(&buf_pool.done_free);\n",
    " \t}\n",
    " \n",
    "-\tMEM_NOACCESS(block->page.frame, srv_page_size);\n",
    "+\tblock->page.set_os_unused();\n",
    " }\n",
    " \n",
    " /** Release a memory block to the buffer pool. */\n",
    "diff --git a/storage/innobase/include/buf0buf.h b/storage/innobase/include/buf0buf.h\n",
    "index 24571483d05c5..2dd6935241e32 100644\n",
    "--- a/storage/innobase/include/buf0buf.h\n",
    "+++ b/storage/innobase/include/buf0buf.h\n",
    "@@ -657,6 +657,20 @@ class buf_page_t\n",
    "     access_time= 0;\n",
    "   }\n",
    " \n",
    "+  void set_os_unused()\n",
    "+  {\n",
    "+    MEM_NOACCESS(frame, srv_page_size);\n",
    "+#ifdef MADV_FREE\n",
    "+    madvise(frame, srv_page_size, MADV_FREE);\n",
    "+#endif\n",
    "+  }\n",
    "+\n",
    "+  void set_os_used() const\n",
    "+  {\n",
    "+    MEM_MAKE_ADDRESSABLE(frame, srv_page_size);\n",
    "+  }\n",
    " public:\n",
    "   const page_id_t &id() const { return id_; }\n",
    "   uint32_t state() const { return zip.fix; }\n",
    "```"
   ]
  },
  {
   "cell_type": "markdown",
   "id": "cade0e24-106e-4551-83d5-c37aab147575",
   "metadata": {},
   "source": [
    "## System Versioning - auto"
   ]
  },
  {
   "cell_type": "code",
   "execution_count": null,
   "id": "3eb49726-f749-4c1f-8e2f-285d04a71031",
   "metadata": {
    "tags": []
   },
   "outputs": [],
   "source": [
    "CREATE TABLE sv_autot1 (x int) WITH SYSTEM VERSIONING\n",
    "    PARTITION BY SYSTEM_TIME INTERVAL 1 HOUR AUTO;"
   ]
  },
  {
   "cell_type": "code",
   "execution_count": null,
   "id": "ddb60484-1a2b-4b11-8ec5-2314a612d43b",
   "metadata": {
    "tags": []
   },
   "outputs": [],
   "source": [
    "\n",
    "CREATE TABLE sv_autot2 (x int) WITH SYSTEM VERSIONING\n",
    "   PARTITION BY SYSTEM_TIME INTERVAL 1 MONTH\n",
    "   STARTS '2021-01-01 00:00:00' AUTO PARTITIONS 12;"
   ]
  },
  {
   "cell_type": "code",
   "execution_count": null,
   "id": "50fe7af2-e44d-4239-8757-b8fa9be9b09b",
   "metadata": {
    "tags": []
   },
   "outputs": [],
   "source": [
    "CREATE TABLE sv_autot3 (x int) WITH SYSTEM VERSIONING\n",
    "  PARTITION BY SYSTEM_TIME LIMIT 1000 AUTO;\n"
   ]
  },
  {
   "cell_type": "markdown",
   "id": "d06d2023-6b58-45b6-8f9f-a42700eceaa6",
   "metadata": {},
   "source": [
    "## mariadb-dump --order-by-size"
   ]
  },
  {
   "cell_type": "markdown",
   "id": "dfeaa332-903b-4cd4-9ad5-16a91fde2eb5",
   "metadata": {},
   "source": [
    "small tables first.\n",
    "\n",
    "a avoids \"Table definition has changed, please retry transaction' error\" error when ALTER TABLE Issues during backup, meaning less likely to impact data is saved first."
   ]
  },
  {
   "cell_type": "markdown",
   "id": "c083d224-1a19-4ca4-b6ed-285d4163928a",
   "metadata": {},
   "source": [
    "## Chinese Error messages (and default in China mainland locale)"
   ]
  },
  {
   "cell_type": "code",
   "execution_count": null,
   "id": "3e698124-f5d4-4dc4-a10d-647f07790cfd",
   "metadata": {
    "tags": []
   },
   "outputs": [],
   "source": [
    "SET lc_messages=ZH_CN;"
   ]
  }
 ],
 "metadata": {
  "kernelspec": {
   "display_name": "MariaDB",
   "language": "SQL",
   "name": "mariadb_kernel"
  },
  "language_info": {
   "file_extension": ".sql",
   "mimetype": "text/plain",
   "name": "SQL"
  }
 },
 "nbformat": 4,
 "nbformat_minor": 5
}
