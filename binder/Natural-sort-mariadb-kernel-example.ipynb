{
 "cells": [
  {
   "cell_type": "code",
   "execution_count": 50,
   "id": "4e290746",
   "metadata": {},
   "outputs": [
    {
     "data": {
      "text/html": [
       "<html><body><table border=\"1\"><tr><th style=\"text-align:left;white-space:pre\">c</th></tr><tr><td style=\"text-align:left;white-space:pre\">b1</td></tr><tr><td style=\"text-align:left;white-space:pre\">a2</td></tr><tr><td style=\"text-align:left;white-space:pre\">a11</td></tr><tr><td style=\"text-align:left;white-space:pre\">a1</td></tr></table></body></html>"
      ]
     },
     "metadata": {},
     "output_type": "display_data"
    }
   ],
   "source": [
    "select 1 c where 0 union values('b1'),('a2'),('a11'),('a1');"
   ]
  },
  {
   "cell_type": "code",
   "execution_count": 51,
   "id": "94379357",
   "metadata": {},
   "outputs": [
    {
     "data": {
      "text/html": [
       "<html><body><table border=\"1\"><tr><th style=\"text-align:left;white-space:pre\">c</th></tr><tr><td style=\"text-align:left;white-space:pre\">a1</td></tr><tr><td style=\"text-align:left;white-space:pre\">a11</td></tr><tr><td style=\"text-align:left;white-space:pre\">a2</td></tr><tr><td style=\"text-align:left;white-space:pre\">b1</td></tr></table></body></html>"
      ]
     },
     "metadata": {},
     "output_type": "display_data"
    }
   ],
   "source": [
    "select 1 c where 0 union values('b1'),('a2'),('a11'),('a1') order by c;"
   ]
  },
  {
   "cell_type": "code",
   "execution_count": 52,
   "id": "4c36e246",
   "metadata": {},
   "outputs": [
    {
     "data": {
      "text/html": [
       "<html><body><table border=\"1\"><tr><th style=\"text-align:left;white-space:pre\">c</th></tr><tr><td style=\"text-align:left;white-space:pre\">a1</td></tr><tr><td style=\"text-align:left;white-space:pre\">a2</td></tr><tr><td style=\"text-align:left;white-space:pre\">a11</td></tr><tr><td style=\"text-align:left;white-space:pre\">b1</td></tr></table></body></html>"
      ]
     },
     "metadata": {},
     "output_type": "display_data"
    }
   ],
   "source": [
    "select 1 c where 0 union values('b1'),('a2'),('a11'),('a1') order by natural_sort_key(c);"
   ]
  },
  {
   "cell_type": "code",
   "execution_count": null,
   "id": "03d9bad2",
   "metadata": {},
   "outputs": [],
   "source": []
  },
  {
   "cell_type": "code",
   "execution_count": 53,
   "id": "195157e6",
   "metadata": {},
   "outputs": [
    {
     "data": {
      "text/html": [
       "<html><body><table border=\"1\"><tr><th style=\"text-align:left;white-space:pre\">mariadb_versions</th></tr><tr><td style=\"text-align:left;white-space:pre\">5.5.31</td></tr><tr><td style=\"text-align:left;white-space:pre\">10.7.0</td></tr><tr><td style=\"text-align:left;white-space:pre\">10.2.1</td></tr><tr><td style=\"text-align:left;white-space:pre\">10.1.22</td></tr><tr><td style=\"text-align:left;white-space:pre\">10.3.32</td></tr><tr><td style=\"text-align:left;white-space:pre\">10.2.12</td></tr></table></body></html>"
      ]
     },
     "metadata": {},
     "output_type": "display_data"
    }
   ],
   "source": [
    "select 1 mariadb_versions where 0 union values('5.5.31'),('10.7.0'),('10.2.1'),('10.1.22'),('10.3.32'),('10.2.12');"
   ]
  },
  {
   "cell_type": "code",
   "execution_count": 54,
   "id": "2c39723c",
   "metadata": {},
   "outputs": [
    {
     "data": {
      "text/html": [
       "<html><body><table border=\"1\"><tr><th style=\"text-align:left;white-space:pre\">mariadb_versions</th></tr><tr><td style=\"text-align:left;white-space:pre\">10.1.22</td></tr><tr><td style=\"text-align:left;white-space:pre\">10.2.1</td></tr><tr><td style=\"text-align:left;white-space:pre\">10.2.12</td></tr><tr><td style=\"text-align:left;white-space:pre\">10.3.32</td></tr><tr><td style=\"text-align:left;white-space:pre\">10.7.0</td></tr><tr><td style=\"text-align:left;white-space:pre\">5.5.31</td></tr></table></body></html>"
      ]
     },
     "metadata": {},
     "output_type": "display_data"
    }
   ],
   "source": [
    " select 1 mariadb_versions where 0 union values('5.5.31'),('10.7.0'),('10.2.1'),('10.1.22'),('10.3.32'),('10.2.12') order by(mariadb_versions);"
   ]
  },
  {
   "cell_type": "code",
   "execution_count": 55,
   "id": "2e4a7208",
   "metadata": {},
   "outputs": [
    {
     "data": {
      "text/html": [
       "<html><body><table border=\"1\"><tr><th style=\"text-align:left;white-space:pre\">mariadb_versions</th></tr><tr><td style=\"text-align:left;white-space:pre\">5.5.31</td></tr><tr><td style=\"text-align:left;white-space:pre\">10.1.22</td></tr><tr><td style=\"text-align:left;white-space:pre\">10.2.1</td></tr><tr><td style=\"text-align:left;white-space:pre\">10.2.12</td></tr><tr><td style=\"text-align:left;white-space:pre\">10.3.32</td></tr><tr><td style=\"text-align:left;white-space:pre\">10.7.0</td></tr></table></body></html>"
      ]
     },
     "metadata": {},
     "output_type": "display_data"
    }
   ],
   "source": [
    "select 1 mariadb_versions where 0 union values('5.5.31'),('10.7.0'),('10.2.1'),('10.1.22'),('10.3.32'),('10.2.12') order by natural_sort_key(mariadb_versions);"
   ]
  },
  {
   "cell_type": "code",
   "execution_count": null,
   "id": "3ee9ad6c",
   "metadata": {},
   "outputs": [],
   "source": []
  },
  {
   "cell_type": "code",
   "execution_count": 56,
   "id": "3d2e2008",
   "metadata": {},
   "outputs": [
    {
     "data": {
      "text/html": [
       "<html><body><table border=\"1\"><tr><th style=\"text-align:left;white-space:pre\">my_ips</th></tr><tr><td style=\"text-align:left;white-space:pre\">192.167.3.1</td></tr><tr><td style=\"text-align:left;white-space:pre\">192.167.1.12</td></tr><tr><td style=\"text-align:left;white-space:pre\">100.200.300.400</td></tr><tr><td style=\"text-align:left;white-space:pre\">100.50.60.70</td></tr><tr><td style=\"text-align:left;white-space:pre\">100.8.9.9</td></tr><tr><td style=\"text-align:left;white-space:pre\">127.0.0.1</td></tr><tr><td style=\"text-align:left;white-space:pre\">0.0.0.0</td></tr></table></body></html>"
      ]
     },
     "metadata": {},
     "output_type": "display_data"
    }
   ],
   "source": [
    "select 1 my_ips where 0 union values('192.167.3.1'),('192.167.1.12'),('100.200.300.400'),('100.50.60.70'),('100.8.9.9'),('127.0.0.1'),('0.0.0.0');"
   ]
  },
  {
   "cell_type": "code",
   "execution_count": 57,
   "id": "9ead327d",
   "metadata": {},
   "outputs": [
    {
     "data": {
      "text/html": [
       "<html><body><table border=\"1\"><tr><th style=\"text-align:left;white-space:pre\">my_ips</th></tr><tr><td style=\"text-align:left;white-space:pre\">0.0.0.0</td></tr><tr><td style=\"text-align:left;white-space:pre\">100.200.300.400</td></tr><tr><td style=\"text-align:left;white-space:pre\">100.50.60.70</td></tr><tr><td style=\"text-align:left;white-space:pre\">100.8.9.9</td></tr><tr><td style=\"text-align:left;white-space:pre\">127.0.0.1</td></tr><tr><td style=\"text-align:left;white-space:pre\">192.167.1.12</td></tr><tr><td style=\"text-align:left;white-space:pre\">192.167.3.1</td></tr></table></body></html>"
      ]
     },
     "metadata": {},
     "output_type": "display_data"
    }
   ],
   "source": [
    "select 1 my_ips where 0 union values('192.167.3.1'),('192.167.1.12'),('100.200.300.400'),('100.50.60.70'),('100.8.9.9'),('127.0.0.1'),('0.0.0.0') order by(my_ips);"
   ]
  },
  {
   "cell_type": "code",
   "execution_count": 58,
   "id": "b7266a96",
   "metadata": {},
   "outputs": [
    {
     "data": {
      "text/html": [
       "<html><body><table border=\"1\"><tr><th style=\"text-align:left;white-space:pre\">my_ips</th></tr><tr><td style=\"text-align:left;white-space:pre\">0.0.0.0</td></tr><tr><td style=\"text-align:left;white-space:pre\">100.8.9.9</td></tr><tr><td style=\"text-align:left;white-space:pre\">100.50.60.70</td></tr><tr><td style=\"text-align:left;white-space:pre\">100.200.300.400</td></tr><tr><td style=\"text-align:left;white-space:pre\">127.0.0.1</td></tr><tr><td style=\"text-align:left;white-space:pre\">192.167.1.12</td></tr><tr><td style=\"text-align:left;white-space:pre\">192.167.3.1</td></tr></table></body></html>"
      ]
     },
     "metadata": {},
     "output_type": "display_data"
    }
   ],
   "source": [
    "select 1 my_ips where 0 union values('192.167.3.1'),('192.167.1.12'),('100.200.300.400'),('100.50.60.70'),('100.8.9.9'),('127.0.0.1'),('0.0.0.0') order by natural_sort_key(my_ips);"
   ]
  },
  {
   "cell_type": "code",
   "execution_count": 59,
   "id": "fbca10f8",
   "metadata": {},
   "outputs": [
    {
     "data": {
      "text/html": [
       "Query OK"
      ]
     },
     "metadata": {},
     "output_type": "display_data"
    }
   ],
   "source": [
    "use test;"
   ]
  },
  {
   "cell_type": "code",
   "execution_count": 60,
   "id": "58b19e98",
   "metadata": {},
   "outputs": [
    {
     "data": {
      "text/html": [
       "Query OK"
      ]
     },
     "metadata": {},
     "output_type": "display_data"
    }
   ],
   "source": [
    "create table  if not exists t(c varchar(3), k varchar(3)  as (natural_sort_key(c)) invisible);"
   ]
  },
  {
   "cell_type": "code",
   "execution_count": 61,
   "id": "2a582366",
   "metadata": {},
   "outputs": [
    {
     "data": {
      "text/html": [
       "<html><body><table border=\"1\"><tr><th style=\"text-align:left;white-space:pre\">Table</th><th style=\"text-align:left;white-space:pre\">Create Table</th></tr><tr><td style=\"text-align:left;white-space:pre\">t</td><td style=\"text-align:left;white-space:pre\">CREATE TABLE `t` (\r\n",
       "  `c` varchar(10) DEFAULT NULL,\r\n",
       "  `k` varchar(10) GENERATED ALWAYS AS (natural_sort_key(`c`)) VIRTUAL\r\n",
       ") ENGINE=InnoDB DEFAULT CHARSET=latin1</td></tr></table></body></html>"
      ]
     },
     "metadata": {},
     "output_type": "display_data"
    }
   ],
   "source": [
    "show create table t;"
   ]
  },
  {
   "cell_type": "code",
   "execution_count": 62,
   "id": "5b6c9bc9",
   "metadata": {},
   "outputs": [
    {
     "data": {
      "text/html": [
       "<html><body><table border=\"1\"><tr><th style=\"text-align:left;white-space:pre\">c</th><th style=\"text-align:left;white-space:pre\">k</th></tr><tr><td style=\"text-align:left;white-space:pre\">b1</td><td style=\"text-align:left;white-space:pre\">b01</td></tr><tr><td style=\"text-align:left;white-space:pre\">a1b</td><td style=\"text-align:left;white-space:pre\">a01b</td></tr><tr><td style=\"text-align:left;white-space:pre\">a11</td><td style=\"text-align:left;white-space:pre\">a111</td></tr><tr><td style=\"text-align:left;white-space:pre\">a0</td><td style=\"text-align:left;white-space:pre\">a00</td></tr><tr><td style=\"text-align:left;white-space:pre\">a01b</td><td style=\"text-align:left;white-space:pre\">a01b</td></tr><tr><td style=\"text-align:left;white-space:pre\">a1b1</td><td style=\"text-align:left;white-space:pre\">a01b01</td></tr><tr><td style=\"text-align:left;white-space:pre\">a01b1</td><td style=\"text-align:left;white-space:pre\">a01b01</td></tr><tr><td style=\"text-align:left;white-space:pre\">a01b2</td><td style=\"text-align:left;white-space:pre\">a01b02</td></tr></table></body></html>"
      ]
     },
     "metadata": {},
     "output_type": "display_data"
    }
   ],
   "source": [
    "select * from t;"
   ]
  },
  {
   "cell_type": "code",
   "execution_count": 63,
   "id": "dced7884",
   "metadata": {},
   "outputs": [
    {
     "data": {
      "text/html": [
       "<html><body><table border=\"1\"><tr><th style=\"text-align:left;white-space:pre\">c</th><th style=\"text-align:left;white-space:pre\">k</th></tr><tr><td style=\"text-align:left;white-space:pre\">a0</td><td style=\"text-align:left;white-space:pre\">a00</td></tr><tr><td style=\"text-align:left;white-space:pre\">a01b</td><td style=\"text-align:left;white-space:pre\">a01b</td></tr><tr><td style=\"text-align:left;white-space:pre\">a01b1</td><td style=\"text-align:left;white-space:pre\">a01b01</td></tr><tr><td style=\"text-align:left;white-space:pre\">a01b2</td><td style=\"text-align:left;white-space:pre\">a01b02</td></tr><tr><td style=\"text-align:left;white-space:pre\">a11</td><td style=\"text-align:left;white-space:pre\">a111</td></tr><tr><td style=\"text-align:left;white-space:pre\">a1b</td><td style=\"text-align:left;white-space:pre\">a01b</td></tr><tr><td style=\"text-align:left;white-space:pre\">a1b1</td><td style=\"text-align:left;white-space:pre\">a01b01</td></tr><tr><td style=\"text-align:left;white-space:pre\">b1</td><td style=\"text-align:left;white-space:pre\">b01</td></tr></table></body></html>"
      ]
     },
     "metadata": {},
     "output_type": "display_data"
    }
   ],
   "source": [
    "select * from t order by c;"
   ]
  },
  {
   "cell_type": "code",
   "execution_count": 64,
   "id": "8c2592ac",
   "metadata": {},
   "outputs": [
    {
     "data": {
      "text/html": [
       "<html><body><table border=\"1\"><tr><th style=\"text-align:left;white-space:pre\">c</th><th style=\"text-align:left;white-space:pre\">k</th></tr><tr><td style=\"text-align:left;white-space:pre\">a0</td><td style=\"text-align:left;white-space:pre\">a00</td></tr><tr><td style=\"text-align:left;white-space:pre\">a1b</td><td style=\"text-align:left;white-space:pre\">a01b</td></tr><tr><td style=\"text-align:left;white-space:pre\">a01b</td><td style=\"text-align:left;white-space:pre\">a01b</td></tr><tr><td style=\"text-align:left;white-space:pre\">a1b1</td><td style=\"text-align:left;white-space:pre\">a01b01</td></tr><tr><td style=\"text-align:left;white-space:pre\">a01b1</td><td style=\"text-align:left;white-space:pre\">a01b01</td></tr><tr><td style=\"text-align:left;white-space:pre\">a01b2</td><td style=\"text-align:left;white-space:pre\">a01b02</td></tr><tr><td style=\"text-align:left;white-space:pre\">a11</td><td style=\"text-align:left;white-space:pre\">a111</td></tr><tr><td style=\"text-align:left;white-space:pre\">b1</td><td style=\"text-align:left;white-space:pre\">b01</td></tr></table></body></html>"
      ]
     },
     "metadata": {},
     "output_type": "display_data"
    }
   ],
   "source": [
    "select * from t order by k;"
   ]
  },
  {
   "cell_type": "code",
   "execution_count": null,
   "id": "5bdba36e",
   "metadata": {},
   "outputs": [],
   "source": []
  },
  {
   "cell_type": "code",
   "execution_count": 65,
   "id": "230cc9b9",
   "metadata": {},
   "outputs": [
    {
     "name": "stderr",
     "output_type": "stream",
     "text": [
      "Function or expression 'natural_sort_key()' cannot be used in the GENERATED ALWAYS AS clause of `k`\r\n",
      "\u0007\u001b(B\u001b[0;7m\u001b(B\u001b[m\n"
     ]
    }
   ],
   "source": [
    "create table t2(c varchar(1), k varchar(2)  as (natural_sort_key(c)) stored);"
   ]
  }
 ],
 "metadata": {
  "kernelspec": {
   "display_name": "MariaDB",
   "language": "SQL",
   "name": "mariadb_kernel"
  },
  "language_info": {
   "file_extension": ".sql",
   "mimetype": "text/plain",
   "name": "SQL"
  }
 },
 "nbformat": 4,
 "nbformat_minor": 5
}
