{
 "cells": [
  {
   "cell_type": "code",
   "execution_count": null,
   "id": "9558dcd7-75d8-4a29-8e55-6b99c0851d0c",
   "metadata": {},
   "outputs": [],
   "source": [
    "select version();"
   ]
  },
  {
   "cell_type": "markdown",
   "id": "c46f432d-d63f-408d-a9f1-e4c6e4f088e1",
   "metadata": {},
   "source": [
    "### Use test database"
   ]
  },
  {
   "cell_type": "code",
   "execution_count": 5,
   "id": "6a87a902-89fd-41b7-a6b4-12edd297e795",
   "metadata": {},
   "outputs": [
    {
     "data": {
      "text/html": [
       "<html><body><table border=\"1\"><tr><th style=\"text-align:left;white-space:pre\">c</th></tr><tr><td style=\"text-align:left;white-space:pre\">b1</td></tr><tr><td style=\"text-align:left;white-space:pre\">a2</td></tr><tr><td style=\"text-align:left;white-space:pre\">a11</td></tr><tr><td style=\"text-align:left;white-space:pre\">a1</td></tr></table></body></html>"
      ]
     },
     "metadata": {},
     "output_type": "display_data"
    }
   ],
   "source": [
    "use test;"
   ]
  },
  {
   "cell_type": "markdown",
   "id": "b42a4ff6-c835-435c-a3b5-762986b6f20c",
   "metadata": {},
   "source": [
    "### Example 1 - Windows file manager"
   ]
  },
  {
   "cell_type": "code",
   "execution_count": null,
   "id": "53747251-ea76-4067-a444-97bbb8a7f54b",
   "metadata": {},
   "outputs": [],
   "source": [
    "create or replace table t1 (c text);\n"
   ]
  },
  {
   "cell_type": "markdown",
   "id": "3db0acfe-4f51-41d0-b9f2-165a7453f996",
   "metadata": {},
   "source": [
    "#### Testing data"
   ]
  },
  {
   "cell_type": "code",
   "execution_count": null,
   "id": "b9a01053-fde8-45ff-8c0a-856ce8f01bf7",
   "metadata": {},
   "outputs": [],
   "source": [
    "insert into t1 values ('b1'),('a2'),('a11'),('a1');\n"
   ]
  },
  {
   "cell_type": "code",
   "execution_count": null,
   "id": "7251905f-5ac9-4368-a297-17853af63fd7",
   "metadata": {},
   "outputs": [],
   "source": [
    "select * from t1;"
   ]
  },
  {
   "cell_type": "markdown",
   "id": "7296a4ff-f929-439e-a32d-4972abb9e36f",
   "metadata": {},
   "source": [
    "#### Unnatural sort"
   ]
  },
  {
   "cell_type": "code",
   "execution_count": null,
   "id": "1206775e-b755-4323-a98a-79d98b705356",
   "metadata": {},
   "outputs": [],
   "source": [
    "select c from t1 order by c;"
   ]
  },
  {
   "cell_type": "markdown",
   "id": "2af2bb1c-f972-48b7-8f30-faeeb98ea17e",
   "metadata": {},
   "source": [
    "#### Natural sort"
   ]
  },
  {
   "cell_type": "code",
   "execution_count": null,
   "id": "eb79f570-a1f4-4135-b61e-37d912d540e0",
   "metadata": {},
   "outputs": [],
   "source": [
    "select c from t1 order by natural_sort_key(c);"
   ]
  },
  {
   "cell_type": "markdown",
   "id": "4b71e318-7a5e-4215-a5d8-dc688db41b13",
   "metadata": {},
   "source": [
    "### Example 2 - MariaDB versions"
   ]
  },
  {
   "cell_type": "code",
   "execution_count": null,
   "id": "32f29fa1-088a-4eb9-88fd-f65ed382a8f8",
   "metadata": {},
   "outputs": [],
   "source": [
    "create or replace table t2 (c text);"
   ]
  },
  {
   "cell_type": "markdown",
   "id": "9b1c5246-3d5a-4150-9575-b3e301406fe1",
   "metadata": {},
   "source": [
    "#### Testing data"
   ]
  },
  {
   "cell_type": "code",
   "execution_count": null,
   "id": "df558796-21a8-40d9-b162-ebc5b95b8294",
   "metadata": {},
   "outputs": [],
   "source": [
    "insert into t2 values ('5.5.31'),('10.7.0'),('10.2.1'),('10.1.22'),('10.3.32'),('10.2.12');"
   ]
  },
  {
   "cell_type": "code",
   "execution_count": null,
   "id": "15331a25-e210-44d3-8d83-ff25a3e008bf",
   "metadata": {},
   "outputs": [],
   "source": [
    "select * from t2;"
   ]
  },
  {
   "cell_type": "markdown",
   "id": "538b0eb2-3c70-4adf-8b4c-947b05ba4a7f",
   "metadata": {},
   "source": [
    "#### Unnatural sort"
   ]
  },
  {
   "cell_type": "code",
   "execution_count": null,
   "id": "3bf11194-6b00-474e-a7d1-17c31d727faf",
   "metadata": {},
   "outputs": [],
   "source": [
    "select c from t2 order by c;"
   ]
  },
  {
   "cell_type": "markdown",
   "id": "d3431827-9b3a-4bd9-bdce-d002dc59eed0",
   "metadata": {},
   "source": [
    "#### Natural sort"
   ]
  },
  {
   "cell_type": "code",
   "execution_count": null,
   "id": "6462c544-598e-445f-a294-8f9b0e73f961",
   "metadata": {},
   "outputs": [],
   "source": [
    "select c from t2 order by natural_sort_key(c);"
   ]
  },
  {
   "cell_type": "markdown",
   "id": "f05a5636-3ee8-4b45-bff2-51e0d5ec38f0",
   "metadata": {},
   "source": [
    "### Example 3 - IPs"
   ]
  },
  {
   "cell_type": "code",
   "execution_count": null,
   "id": "d2d6e56e-a2b0-40f9-9317-13064d334649",
   "metadata": {},
   "outputs": [],
   "source": [
    "create or replace table t3 (c text);"
   ]
  },
  {
   "cell_type": "markdown",
   "id": "d6effd7c-41f2-4961-af13-3098558dd911",
   "metadata": {},
   "source": [
    "#### Testing data"
   ]
  },
  {
   "cell_type": "code",
   "execution_count": null,
   "id": "a0f99902-5601-4ecd-8f20-5adbefe5ab93",
   "metadata": {},
   "outputs": [],
   "source": [
    "insert into t3 values ('192.167.3.1'),('192.167.1.12'),('100.200.300.400'),('100.50.60.70'),('100.8.9.9'),('127.0.0.1'),('0.0.0.0');"
   ]
  },
  {
   "cell_type": "code",
   "execution_count": null,
   "id": "e6162666-02ff-4f7f-9829-5074717defd4",
   "metadata": {},
   "outputs": [],
   "source": [
    "select * from t3;"
   ]
  },
  {
   "cell_type": "markdown",
   "id": "fba46e32-9f0c-424e-8679-690bc718a86b",
   "metadata": {},
   "source": [
    "#### Unnatural sort"
   ]
  },
  {
   "cell_type": "code",
   "execution_count": null,
   "id": "f9176f50-f486-426b-9260-3bba8111b64e",
   "metadata": {},
   "outputs": [],
   "source": [
    "select c from t3 order by c;"
   ]
  },
  {
   "cell_type": "markdown",
   "id": "ffbe4533-248c-43a9-82bc-e402e98667de",
   "metadata": {},
   "source": [
    "#### Natural sort"
   ]
  },
  {
   "cell_type": "code",
   "execution_count": null,
   "id": "3028a762-a033-45bb-a63e-76d75ac5c28d",
   "metadata": {},
   "outputs": [],
   "source": [
    "select c from t3 order by natural_sort_key(c);"
   ]
  },
  {
   "cell_type": "markdown",
   "id": "5638ab97-462d-4c72-9581-1c58d64f6d96",
   "metadata": {},
   "source": [
    "### Example 4 - virtual columns showcase"
   ]
  },
  {
   "cell_type": "code",
   "execution_count": null,
   "id": "66e77ae1-a016-44f7-ab98-e4d8a44553eb",
   "metadata": {},
   "outputs": [],
   "source": [
    "create table if not exists t(c varchar(3), k varchar(3)  as (natural_sort_key(c)) invisible);"
   ]
  },
  {
   "cell_type": "code",
   "execution_count": null,
   "id": "15f79faa-5f28-4322-a544-d0d50832afa1",
   "metadata": {},
   "outputs": [],
   "source": [
    "show create table t;"
   ]
  },
  {
   "cell_type": "markdown",
   "id": "78880e6e-f9a9-4899-982a-bb12a833641f",
   "metadata": {},
   "source": [
    "#### Unnatural sort"
   ]
  },
  {
   "cell_type": "code",
   "execution_count": null,
   "id": "ae1250c7-4231-408a-8d9c-a45d9b6aedb8",
   "metadata": {},
   "outputs": [],
   "source": [
    "select * from t order by c;"
   ]
  },
  {
   "cell_type": "markdown",
   "id": "31be6d9c-a42f-45bf-a5b6-8c724a5b4c77",
   "metadata": {},
   "source": [
    "#### Natural sort"
   ]
  },
  {
   "cell_type": "code",
   "execution_count": null,
   "id": "de02ebd9-3d0f-4fd8-b3d0-b7e0b3fc37ff",
   "metadata": {},
   "outputs": [],
   "source": [
    "select * from t order by k;"
   ]
  },
  {
   "cell_type": "markdown",
   "id": "b515ad84-2dc7-4702-a46f-92271701d74a",
   "metadata": {},
   "source": [
    "#### No stored indexes"
   ]
  },
  {
   "cell_type": "code",
   "execution_count": null,
   "id": "e421f1de-e1d0-4952-af1a-a5fa21a24d33",
   "metadata": {},
   "outputs": [],
   "source": [
    "create table t2(c varchar(1), k varchar(2)  as (natural_sort_key(c)) stored);"
   ]
  }
 ],
 "metadata": {
  "kernelspec": {
   "display_name": "MariaDB",
   "language": "SQL",
   "name": "mariadb_kernel"
  },
  "language_info": {
   "file_extension": ".sql",
   "mimetype": "text/plain",
   "name": "SQL"
  }
 },
 "nbformat": 4,
 "nbformat_minor": 5
}
