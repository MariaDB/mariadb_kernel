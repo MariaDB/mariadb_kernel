{
 "cells": [
  {
   "cell_type": "code",
   "execution_count": 1,
   "id": "09d0f9e9-b6a7-4d2b-9b8a-0f5373ac8be5",
   "metadata": {},
   "outputs": [
    {
     "data": {
      "text/html": [
       "<html><body><table border=\"1\"><tr><th style=\"text-align:left;white-space:pre\">version()</th></tr><tr><td style=\"text-align:left;white-space:pre\">10.7.0-MariaDB-MDEV-25015-sformat</td></tr></table></body></html>"
      ]
     },
     "metadata": {},
     "output_type": "display_data"
    }
   ],
   "source": [
    "select version();"
   ]
  },
  {
   "cell_type": "markdown",
   "id": "b6400cd3-8ba9-4564-a117-fc7edbd377da",
   "metadata": {},
   "source": [
    "# Create test database and table"
   ]
  },
  {
   "cell_type": "code",
   "execution_count": 6,
   "id": "c353fb9a-8e03-46c8-8a75-bf3b81f723e4",
   "metadata": {},
   "outputs": [
    {
     "data": {
      "text/html": [
       "<html><body><table border=\"1\"><tr><th style=\"text-align:left;white-space:pre\">rel</th><th style=\"text-align:left;white-space:pre\">mdev</th><th style=\"text-align:left;white-space:pre\">feature</th></tr><tr><td style=\"text-align:left;white-space:pre\">10.7.0</td><td style=\"text-align:left;white-space:pre\">25015</td><td style=\"text-align:left;white-space:pre\">Python style sformat</td></tr><tr><td style=\"text-align:left;white-space:pre\">10.7.0</td><td style=\"text-align:left;white-space:pre\">4958</td><td style=\"text-align:left;white-space:pre\">UUID</td></tr></table></body></html>"
      ]
     },
     "metadata": {},
     "output_type": "display_data"
    }
   ],
   "source": [
    "create database preview_sformat;\n",
    "use preview_sformat;\n",
    "create table t1(rel char(6), mdev int, feature char(20));\n",
    "insert into t1 values('10.7.0', 25015, 'Python style sformat'), \n",
    "                     ('10.7.0', 4958, 'UUID');\n",
    "select * from t1;"
   ]
  },
  {
   "cell_type": "markdown",
   "id": "cfc9f0c4-654a-4901-b3ae-8e47b16c87ec",
   "metadata": {},
   "source": [
    "# Show simple sformat usage"
   ]
  },
  {
   "cell_type": "code",
   "execution_count": 8,
   "id": "6b7d5ff8-e674-4d2f-b0e9-7ab81015bb7b",
   "metadata": {},
   "outputs": [
    {
     "data": {
      "text/html": [
       "<html><body><table border=\"1\"><tr><th style=\"text-align:left;white-space:pre\">Preview Release Examples</th></tr><tr><td style=\"text-align:left;white-space:pre\">MariaDB Server 10.7.0 has a preview for MDEV-25015 which is about Python style sformat</td></tr><tr><td style=\"text-align:left;white-space:pre\">MariaDB Server 10.7.0 has a preview for MDEV-4958 which is about UUID</td></tr></table></body></html>"
      ]
     },
     "metadata": {},
     "output_type": "display_data"
    }
   ],
   "source": [
    "select sformat('MariaDB Server {} has a preview for MDEV-{} which is about {}', \n",
    "       rel, mdev, feature) as 'Preview Release Examples' from t1;"
   ]
  },
  {
   "cell_type": "markdown",
   "id": "8f481788-c123-43a2-921d-3809d9702d3c",
   "metadata": {},
   "source": [
    "# Test case with some intentional bugs"
   ]
  },
  {
   "cell_type": "code",
   "execution_count": 17,
   "id": "d1983961-1553-4348-98a5-b3012c712650",
   "metadata": {},
   "outputs": [
    {
     "data": {
      "text/html": [
       "<html><body><table border=\"1\"><tr><th style=\"text-align:left;white-space:pre\">sformat(param1, param2, param3)</th></tr><tr><td style=\"text-align:left;white-space:pre\">string: xyz, number: 123</td></tr><tr><td style=\"text-align:left;white-space:pre\">NULL</td></tr><tr><td style=\"text-align:left;white-space:pre\">Test case Print -&gt; -32</td></tr></table></body></html>"
      ]
     },
     "metadata": {},
     "output_type": "display_data"
    }
   ],
   "source": [
    "drop table t1;\n",
    "create table t1 (param1 text, param2 text, param3 int);\n",
    "insert into  t1 values ('string: {}, number: {}', 'xyz', 123),\n",
    "                       ('something {} went {} wrong {}', 'foo', 0),\n",
    "                       ('Test case {} -> {}', 'Print', -32);\n",
    "select sformat(param1, param2, param3) from t1;\n"
   ]
  },
  {
   "cell_type": "markdown",
   "id": "9faa9a64-fdef-40da-9404-5e06fc47b6c7",
   "metadata": {},
   "source": [
    "# FLOATs and DATEs"
   ]
  },
  {
   "cell_type": "code",
   "execution_count": 20,
   "id": "b21aaf19-d6e0-4103-a2b7-c08809f38e5b",
   "metadata": {},
   "outputs": [
    {
     "data": {
      "text/html": [
       "<html><body><table border=\"1\"><tr><th style=\"text-align:left;white-space:pre\">sformat('p1 {:.4f} p2 {} p3 {} p4 {}', param1, param2, param3, param4)</th></tr><tr><td style=\"text-align:left;white-space:pre\">p1 0.0025 p2 25 p3 A p4 2020-06-29</td></tr><tr><td style=\"text-align:left;white-space:pre\">p1 0.0005 p2 5 p3 B p4 2020-06-29</td></tr><tr><td style=\"text-align:left;white-space:pre\">p1 5.5555 p2 -5 p3 C p4 2020-06-29</td></tr><tr><td style=\"text-align:left;white-space:pre\">p1 -9.0000 p2 -9 p3 D p4 2020-06-29</td></tr></table></body></html>"
      ]
     },
     "metadata": {},
     "output_type": "display_data"
    }
   ],
   "source": [
    "drop table t2;\n",
    "create table t2 (param1 FLOAT, param2 SMALLINT, param3 CHAR, param4 DATE);\n",
    "insert into t2 values (0.0025, 25, 'A', DATE('2020-06-29')),\n",
    "                      (0.0005,  5, 'B', DATE('2020-6-29')),\n",
    "                      (5.5555, -5, 'C', DATE('200629')),\n",
    "                      (-9,     -9, 'D', DATE('20*06*29'));\n",
    "select sformat('p1 {:.4f} p2 {} p3 {} p4 {}', param1, param2, param3, param4) from t2;"
   ]
  },
  {
   "cell_type": "markdown",
   "id": "092c8bfc-477c-4d05-81fe-6238adac27e0",
   "metadata": {},
   "source": [
    "# utf8 vs. latin1"
   ]
  },
  {
   "cell_type": "code",
   "execution_count": 11,
   "id": "1bfe2251-8389-452e-a3ce-426a9d4457c5",
   "metadata": {},
   "outputs": [
    {
     "data": {
      "text/html": [
       "<html><body><table border=\"1\"><tr><th style=\"text-align:left;white-space:pre\">sformat(format_str, first_param, second_param)</th></tr><tr><td style=\"text-align:left;white-space:pre\">test 1 å å</td></tr></table><table border=\"1\"><tr><th style=\"text-align:left;white-space:pre\">HEX(sformat(format_str, first_param, second_param))</th></tr><tr><td style=\"text-align:left;white-space:pre\">74657374203120C3A520C3A5</td></tr></table></body></html>"
      ]
     },
     "metadata": {},
     "output_type": "display_data"
    }
   ],
   "source": [
    "set names utf8;\n",
    "create table t3 (format_str   text character set 'latin1',\n",
    "                 first_param  text character set 'utf8',\n",
    "                 second_param text character set 'latin1');\n",
    "insert into t3 values ('test 1 {} {}', UNHEX('C3A5'), UNHEX('E5'));\n",
    "select sformat(format_str, first_param, second_param) from t3;\n",
    "select HEX(sformat(format_str, first_param, second_param)) from t3;\n"
   ]
  },
  {
   "cell_type": "markdown",
   "id": "78e35ac4-b310-46fe-ab2f-21c84b23f23d",
   "metadata": {},
   "source": [
    "# bit, boolean, decimal, timestamp"
   ]
  },
  {
   "cell_type": "code",
   "execution_count": 12,
   "id": "ecf2e828-69b3-4bbb-b595-eb55cfa139a4",
   "metadata": {},
   "outputs": [
    {
     "data": {
      "text/html": [
       "<html><body><table border=\"1\"><tr><th style=\"text-align:left;white-space:pre\">sformat('{}: {} {} {} {}', 'Data', p1, p2, p3, p4)</th></tr><tr><td style=\"text-align:left;white-space:pre\">Data: 42 1 42 2021-08-18 16:50:07</td></tr><tr><td style=\"text-align:left;white-space:pre\">Data: 24 0 24 0000-00-00 00:00:00</td></tr></table></body></html>"
      ]
     },
     "metadata": {},
     "output_type": "display_data"
    }
   ],
   "source": [
    "set names latin1;\n",
    "\n",
    "create table t4 (p1 bit(8), p2 boolean, p3 DECIMAL, p4 TIMESTAMP);\n",
    "insert into t4 values (42, TRUE,  42, '2021-08-18 16:50:07'),\n",
    "                      (24, FALSE, 24, '0000-00-00 00:00:00');\n",
    "select sformat('{}: {} {} {} {}', 'Data', p1, p2, p3, p4) from t4;"
   ]
  },
  {
   "cell_type": "markdown",
   "id": "4e680638-2bfc-4b1a-8e38-18eb1bb5b695",
   "metadata": {},
   "source": [
    "# HEX and more utf8"
   ]
  },
  {
   "cell_type": "code",
   "execution_count": 13,
   "id": "eb8819c5-f689-48e9-b5d5-932961205a24",
   "metadata": {},
   "outputs": [
    {
     "data": {
      "text/html": [
       "<html><body><table border=\"1\"><tr><th style=\"text-align:left;white-space:pre\">sformat('{}', param)</th></tr><tr><td style=\"text-align:left;white-space:pre\">å</td></tr><tr><td style=\"text-align:left;white-space:pre\">Ż</td></tr><tr><td style=\"text-align:left;white-space:pre\">౻</td></tr><tr><td style=\"text-align:left;white-space:pre\">Ê</td></tr><tr><td style=\"text-align:left;white-space:pre\">NULL</td></tr></table><table border=\"1\"><tr><th style=\"text-align:left;white-space:pre\">HEX(sformat('{}', param))</th></tr><tr><td style=\"text-align:left;white-space:pre\">C3A5</td></tr><tr><td style=\"text-align:left;white-space:pre\">C5BB</td></tr><tr><td style=\"text-align:left;white-space:pre\">E0B1BB</td></tr><tr><td style=\"text-align:left;white-space:pre\">C38A</td></tr><tr><td style=\"text-align:left;white-space:pre\">NULL</td></tr></table></body></html>"
      ]
     },
     "metadata": {},
     "output_type": "display_data"
    }
   ],
   "source": [
    "set names utf8;\n",
    "create table t5 (param text character SET utf8 COLLATE utf8_general_ci);\n",
    "insert into t5 values (UNHEX('C3A5')),(UNHEX('C5BB')),(UNHEX('e0b1bb')),\n",
    "                      (UNHEX('C38A')), (NULL);\n",
    "select sformat('{}', param) from t5;\n",
    "select HEX(sformat('{}', param)) from t5;\n"
   ]
  },
  {
   "cell_type": "markdown",
   "id": "bf3fd736-1f79-49ed-9079-47cf6e3e0935",
   "metadata": {},
   "source": [
    "# A large number of sformat examples"
   ]
  },
  {
   "cell_type": "code",
   "execution_count": 22,
   "id": "a48d4571-a00c-4e56-bd62-8b91c0294031",
   "metadata": {},
   "outputs": [
    {
     "data": {
      "text/html": [
       "<html><body><table border=\"1\"><tr><th style=\"text-align:left;white-space:pre\">sformat('Num {:L}', 13800000000)</th></tr><tr><td style=\"text-align:left;white-space:pre\">Num 13,800,000,000</td></tr></table><table border=\"1\"><tr><th style=\"text-align:left;white-space:pre\">sformat('Num [{:20}]', 42)</th></tr><tr><td style=\"text-align:left;white-space:pre\">Num [                  42]</td></tr></table><table border=\"1\"><tr><th style=\"text-align:left;white-space:pre\">sformat('Number: {:*^{}}', 4, 5)</th></tr><tr><td style=\"text-align:left;white-space:pre\">Number: **4**</td></tr></table><table border=\"1\"><tr><th style=\"text-align:left;white-space:pre\">sformat('{:02} - {:02} - {:02}', 1, 2, 3)</th></tr><tr><td style=\"text-align:left;white-space:pre\">01 - 02 - 03</td></tr></table><table border=\"1\"><tr><th style=\"text-align:left;white-space:pre\">sformat('Character {:c}', 'h')</th></tr><tr><td style=\"text-align:left;white-space:pre\">Character h</td></tr></table><table border=\"1\"><tr><th style=\"text-align:left;white-space:pre\">sformat('String {:s}', 'hello')</th></tr><tr><td style=\"text-align:left;white-space:pre\">String hello</td></tr></table><table border=\"1\"><tr><th style=\"text-align:left;white-space:pre\">sformat('Large {0:+010.4g}', 392.64)</th></tr><tr><td style=\"text-align:left;white-space:pre\">Large +0000392.6</td></tr></table><table border=\"1\"><tr><th style=\"text-align:left;white-space:pre\">sformat('Large {:g}', 392.65)</th></tr><tr><td style=\"text-align:left;white-space:pre\">Large 392.65</td></tr></table><table border=\"1\"><tr><th style=\"text-align:left;white-space:pre\">sformat('Float {:.2f}', 42.0)</th></tr><tr><td style=\"text-align:left;white-space:pre\">Float 42.00</td></tr></table><table border=\"1\"><tr><th style=\"text-align:left;white-space:pre\">sformat('Float {:f}', 42.0)</th></tr><tr><td style=\"text-align:left;white-space:pre\">Float 42.000000</td></tr></table><table border=\"1\"><tr><th style=\"text-align:left;white-space:pre\">sformat('Number {:d}', 42)</th></tr><tr><td style=\"text-align:left;white-space:pre\">Number 42</td></tr></table><table border=\"1\"><tr><th style=\"text-align:left;white-space:pre\">sformat('Number {:{}}', 5, 5)</th></tr><tr><td style=\"text-align:left;white-space:pre\">Number     5</td></tr></table><table border=\"1\"><tr><th style=\"text-align:left;white-space:pre\">sformat('Number [{:10}]', 9999)</th></tr><tr><td style=\"text-align:left;white-space:pre\">Number [      9999]</td></tr></table><table border=\"1\"><tr><th style=\"text-align:left;white-space:pre\">sformat('Number {:.3}', 3.1416)</th></tr><tr><td style=\"text-align:left;white-space:pre\">Number 3.14</td></tr></table><table border=\"1\"><tr><th style=\"text-align:left;white-space:pre\">sformat('int: {0:d};  hex: {0:x};  oct: {0:o}', 42)</th></tr><tr><td style=\"text-align:left;white-space:pre\">int: 42;  hex: 2a;  oct: 52</td></tr></table><table border=\"1\"><tr><th style=\"text-align:left;white-space:pre\">sformat('int: {0:d};  hex: {0:#x};  oct: {0:#o}', 42)</th></tr><tr><td style=\"text-align:left;white-space:pre\">int: 42;  hex: 0x2a;  oct: 052</td></tr></table><table border=\"1\"><tr><th style=\"text-align:left;white-space:pre\">sformat('The hexadecimal version of {0} is {0:X}', 255)</th></tr><tr><td style=\"text-align:left;white-space:pre\">The hexadecimal version of 255 is FF</td></tr></table><table border=\"1\"><tr><th style=\"text-align:left;white-space:pre\">sformat('The hexadecimal version of {0} is {0:x}', 255)</th></tr><tr><td style=\"text-align:left;white-space:pre\">The hexadecimal version of 255 is ff</td></tr></table><table border=\"1\"><tr><th style=\"text-align:left;white-space:pre\">sformat('The octal version of {0} is {0:o}', 10)</th></tr><tr><td style=\"text-align:left;white-space:pre\">The octal version of 10 is 12</td></tr></table><table border=\"1\"><tr><th style=\"text-align:left;white-space:pre\">sformat('The binary version of {0} is {0:b}', 5)</th></tr><tr><td style=\"text-align:left;white-space:pre\">The binary version of 5 is 101</td></tr></table><table border=\"1\"><tr><th style=\"text-align:left;white-space:pre\">sformat('{:+f}; {:+f}', 3.14, -3.14)</th></tr><tr><td style=\"text-align:left;white-space:pre\">+3.140000; -3.140000</td></tr></table><table border=\"1\"><tr><th style=\"text-align:left;white-space:pre\">sformat('{: f}; {: f}', 3.14, -3.14)</th></tr><tr><td style=\"text-align:left;white-space:pre\"> 3.140000; -3.140000</td></tr></table><table border=\"1\"><tr><th style=\"text-align:left;white-space:pre\">sformat('{:-f}; {:-f}', 3.14, -3.14)</th></tr><tr><td style=\"text-align:left;white-space:pre\">3.140000; -3.140000</td></tr></table><table border=\"1\"><tr><th style=\"text-align:left;white-space:pre\">sformat('The temperature is between {: } and {: } degrees celsius.', -3, 7)</th></tr><tr><td style=\"text-align:left;white-space:pre\">The temperature is between -3 and  7 degrees celsius.</td></tr></table><table border=\"1\"><tr><th style=\"text-align:left;white-space:pre\">sformat('The temperature is between {:-} and {:-} degrees celsius.', -3, 7)</th></tr><tr><td style=\"text-align:left;white-space:pre\">The temperature is between -3 and 7 degrees celsius.</td></tr></table><table border=\"1\"><tr><th style=\"text-align:left;white-space:pre\">sformat('The temperature is between {:+} and {:+} degrees celsius.', -3, 7)</th></tr><tr><td style=\"text-align:left;white-space:pre\">The temperature is between -3 and +7 degrees celsius.</td></tr></table><table border=\"1\"><tr><th style=\"text-align:left;white-space:pre\">sformat('We have {:&lt;8} chickens.', 49)</th></tr><tr><td style=\"text-align:left;white-space:pre\">We have 49       chickens.</td></tr></table><table border=\"1\"><tr><th style=\"text-align:left;white-space:pre\">sformat('Center align [{:*^10}]', 'data')</th></tr><tr><td style=\"text-align:left;white-space:pre\">Center align [***data***]</td></tr></table><table border=\"1\"><tr><th style=\"text-align:left;white-space:pre\">sformat('Center align [{:^10}].', 'data')</th></tr><tr><td style=\"text-align:left;white-space:pre\">Center align [   data   ].</td></tr></table><table border=\"1\"><tr><th style=\"text-align:left;white-space:pre\">sformat('Right align [{:&gt;10}].', 'data')</th></tr><tr><td style=\"text-align:left;white-space:pre\">Right align [      data].</td></tr></table><table border=\"1\"><tr><th style=\"text-align:left;white-space:pre\">sformat('Left align [{:&lt;10}].', 'data')</th></tr><tr><td style=\"text-align:left;white-space:pre\">Left align [data      ].</td></tr></table><table border=\"1\"><tr><th style=\"text-align:left;white-space:pre\">sformat('{0}{1}{0}', 'abra', 'cad')</th></tr><tr><td style=\"text-align:left;white-space:pre\">abracadabra</td></tr></table><table border=\"1\"><tr><th style=\"text-align:left;white-space:pre\">sformat('Change Order {1} {0}', 'second', 'first')</th></tr><tr><td style=\"text-align:left;white-space:pre\">Change Order first second</td></tr></table></body></html>"
      ]
     },
     "metadata": {},
     "output_type": "display_data"
    }
   ],
   "source": [
    "select sformat('Num {:L}', 13800000000);\n",
    "select sformat('Num [{:20}]', 42);\n",
    "select sformat('Number: {:*^{}}', 4, 5);\n",
    "select sformat('{:02} - {:02} - {:02}', 1, 2, 3);\n",
    "select sformat('Character {:c}', 'h');\n",
    "select sformat('String {:s}', 'hello');\n",
    "select sformat('Large {0:+010.4g}', 392.64);\n",
    "select sformat('Large {:g}', 392.65);\n",
    "select sformat('Float {:.2f}', 42.0);\n",
    "select sformat('Float {:f}', 42.0);\n",
    "select sformat('Number {:d}', 42);\n",
    "select sformat('Number {:{}}', 5, 5);\n",
    "select sformat('Number [{:10}]', 9999);\n",
    "select sformat('Number {:.3}', 3.1416);\n",
    "select sformat('int: {0:d};  hex: {0:x};  oct: {0:o}', 42);\n",
    "select sformat('int: {0:d};  hex: {0:#x};  oct: {0:#o}', 42);\n",
    "select sformat('The hexadecimal version of {0} is {0:X}', 255);\n",
    "select sformat('The hexadecimal version of {0} is {0:x}', 255);\n",
    "select sformat('The octal version of {0} is {0:o}', 10);\n",
    "select sformat('The binary version of {0} is {0:b}', 5);\n",
    "select sformat('{:+f}; {:+f}', 3.14, -3.14);\n",
    "select sformat('{: f}; {: f}', 3.14, -3.14);\n",
    "select sformat('{:-f}; {:-f}', 3.14, -3.14);\n",
    "select sformat('The temperature is between {: } and {: } degrees celsius.', -3, 7);\n",
    "select sformat('The temperature is between {:-} and {:-} degrees celsius.', -3, 7);\n",
    "select sformat('The temperature is between {:+} and {:+} degrees celsius.', -3, 7);\n",
    "select sformat('We have {:<8} chickens.', 49);\n",
    "select sformat('Center align [{:*^10}]', 'data');\n",
    "select sformat('Center align [{:^10}].', 'data');\n",
    "select sformat('Right align [{:>10}].', 'data');\n",
    "select sformat('Left align [{:<10}].', 'data');\n",
    "select sformat('{0}{1}{0}', 'abra', 'cad');\n",
    "select sformat('Change Order {1} {0}', 'second', 'first');"
   ]
  },
  {
   "cell_type": "code",
   "execution_count": null,
   "id": "bd5cba56-85c1-42a8-9c70-84c65befe431",
   "metadata": {},
   "outputs": [],
   "source": []
  }
 ],
 "metadata": {
  "kernelspec": {
   "display_name": "MariaDB",
   "language": "SQL",
   "name": "mariadb_kernel"
  },
  "language_info": {
   "file_extension": ".sql",
   "mimetype": "text/plain",
   "name": "SQL"
  }
 },
 "nbformat": 4,
 "nbformat_minor": 5
}
