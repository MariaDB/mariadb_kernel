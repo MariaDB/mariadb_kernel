{
 "cells": [
  {
   "cell_type": "code",
   "execution_count": 1,
   "id": "09d0f9e9-b6a7-4d2b-9b8a-0f5373ac8be5",
   "metadata": {},
   "outputs": [
    {
     "data": {
      "text/html": [
       "<html><body><table border=\"1\"><tr><th style=\"text-align:left;white-space:pre\">version()</th></tr><tr><td style=\"text-align:left;white-space:pre\">10.7.0-MariaDB-MDEV-25015-sformat</td></tr></table></body></html>"
      ]
     },
     "metadata": {},
     "output_type": "display_data"
    }
   ],
   "source": [
    "select version();"
   ]
  },
  {
   "cell_type": "markdown",
   "id": "b6400cd3-8ba9-4564-a117-fc7edbd377da",
   "metadata": {},
   "source": [
    "# Create test database and table"
   ]
  },
  {
   "cell_type": "code",
   "execution_count": 2,
   "id": "392aa82c-9791-472a-95bc-ea246f9285c5",
   "metadata": {},
   "outputs": [],
   "source": [
    "create database preview_sformat;"
   ]
  },
  {
   "cell_type": "code",
   "execution_count": 2,
   "id": "b403dd7d-00b9-4727-8890-01a175cf98a4",
   "metadata": {},
   "outputs": [],
   "source": [
    "use preview_sformat;"
   ]
  },
  {
   "cell_type": "code",
   "execution_count": 2,
   "id": "627b85b2-7582-404b-abc1-a88d1b52c935",
   "metadata": {},
   "outputs": [],
   "source": [
    "create table t1(rel char(6), mdev int, feature char(20));"
   ]
  },
  {
   "cell_type": "code",
   "execution_count": 2,
   "id": "32ef2673-5749-43f9-abb9-2294eff238b2",
   "metadata": {},
   "outputs": [],
   "source": [
    "insert into t1 values('10.7.0', 25015, 'Python style sformat'), \n",
    "                     ('10.7.0', 4958, 'UUID');"
   ]
  },
  {
   "cell_type": "code",
   "execution_count": 2,
   "id": "f36c2e3c-6451-45da-9a6b-005379d47f31",
   "metadata": {},
   "outputs": [
    {
     "data": {
      "text/html": [
       "<html><body><table border=\"1\"><tr><th style=\"text-align:left;white-space:pre\">rel</th><th style=\"text-align:left;white-space:pre\">mdev</th><th style=\"text-align:left;white-space:pre\">feature</th></tr><tr><td style=\"text-align:left;white-space:pre\">10.7.0</td><td style=\"text-align:left;white-space:pre\">25015</td><td style=\"text-align:left;white-space:pre\">Python style sformat</td></tr><tr><td style=\"text-align:left;white-space:pre\">10.7.0</td><td style=\"text-align:left;white-space:pre\">4958</td><td style=\"text-align:left;white-space:pre\">UUID</td></tr></table></body></html>"
      ]
     },
     "metadata": {},
     "output_type": "display_data"
    }
   ],
   "source": [
    "select * from t1;"
   ]
  },
  {
   "cell_type": "markdown",
   "id": "cfc9f0c4-654a-4901-b3ae-8e47b16c87ec",
   "metadata": {},
   "source": [
    "# Show simple sformat usage"
   ]
  },
  {
   "cell_type": "code",
   "execution_count": 3,
   "id": "6b7d5ff8-e674-4d2f-b0e9-7ab81015bb7b",
   "metadata": {},
   "outputs": [
    {
     "data": {
      "text/html": [
       "<html><body><table border=\"1\"><tr><th style=\"text-align:left;white-space:pre\">Preview Release Examples</th></tr><tr><td style=\"text-align:left;white-space:pre\">MariaDB Server 10.7.0 has a preview for MDEV-25015 which is about Python style sformat</td></tr><tr><td style=\"text-align:left;white-space:pre\">MariaDB Server 10.7.0 has a preview for MDEV-4958 which is about UUID</td></tr></table></body></html>"
      ]
     },
     "metadata": {},
     "output_type": "display_data"
    }
   ],
   "source": [
    "select sformat('MariaDB Server {} has a preview for MDEV-{} which is about {}', \n",
    "       rel, mdev, feature) as 'Preview Release Examples' from t1;"
   ]
  },
  {
   "cell_type": "markdown",
   "id": "8f481788-c123-43a2-921d-3809d9702d3c",
   "metadata": {},
   "source": [
    "# Test case with some intentional bugs"
   ]
  },
  {
   "cell_type": "code",
   "execution_count": 11,
   "id": "b03bba05-6b6c-4bdb-a8f4-5af38eff82d3",
   "metadata": {},
   "outputs": [
    {
     "data": {
      "text/html": [
       "Query OK"
      ]
     },
     "metadata": {},
     "output_type": "display_data"
    }
   ],
   "source": [
    "create or replace table t1 (param1 text, param2 text, param3 int);"
   ]
  },
  {
   "cell_type": "code",
   "execution_count": 12,
   "id": "8b8b3640-e5c9-4945-afe6-e4578ad56345",
   "metadata": {},
   "outputs": [
    {
     "data": {
      "text/html": [
       "Query OK"
      ]
     },
     "metadata": {},
     "output_type": "display_data"
    }
   ],
   "source": [
    "insert into  t1 values ('string: {}, number: {}', 'xyz', 123),\n",
    "                       ('something {} went {} wrong {}', 'foo', 0),\n",
    "                       ('Test case {} -> {}', 'Print', -32);"
   ]
  },
  {
   "cell_type": "code",
   "execution_count": 13,
   "id": "4adeb6b4-cbbf-4195-8562-0dd8bdc3cb38",
   "metadata": {},
   "outputs": [
    {
     "data": {
      "text/html": [
       "<html><body><table border=\"1\"><tr><th style=\"text-align:left;white-space:pre\">sformat(param1, param2, param3)</th></tr><tr><td style=\"text-align:left;white-space:pre\">string: xyz, number: 123</td></tr><tr><td style=\"text-align:left;white-space:pre\">NULL</td></tr><tr><td style=\"text-align:left;white-space:pre\">Test case Print -&gt; -32</td></tr></table></body></html>"
      ]
     },
     "metadata": {},
     "output_type": "display_data"
    }
   ],
   "source": [
    "select sformat(param1, param2, param3) from t1;"
   ]
  },
  {
   "cell_type": "markdown",
   "id": "9faa9a64-fdef-40da-9404-5e06fc47b6c7",
   "metadata": {},
   "source": [
    "# FLOATs and DATEs"
   ]
  },
  {
   "cell_type": "code",
   "execution_count": 7,
   "id": "ade6362d-ed07-403e-9b64-30d8265115fe",
   "metadata": {},
   "outputs": [
    {
     "data": {
      "text/html": [
       "Query OK"
      ]
     },
     "metadata": {},
     "output_type": "display_data"
    }
   ],
   "source": [
    "create or replace table t2 (param1 FLOAT, param2 SMALLINT, param3 CHAR, param4 DATE);"
   ]
  },
  {
   "cell_type": "code",
   "execution_count": 8,
   "id": "a4efbe34-80ee-4489-9b01-b12b1996c51d",
   "metadata": {},
   "outputs": [
    {
     "data": {
      "text/html": [
       "Query OK"
      ]
     },
     "metadata": {},
     "output_type": "display_data"
    }
   ],
   "source": [
    "insert into t2 values (0.0025, 25, 'A', DATE('2020-06-29')),\n",
    "                      (0.0005,  5, 'B', DATE('2020-6-29')),\n",
    "                      (5.5555, -5, 'C', DATE('200629')),\n",
    "                      (-9,     -9, 'D', DATE('20*06*29'));"
   ]
  },
  {
   "cell_type": "code",
   "execution_count": 9,
   "id": "ac9beac2-7406-4296-b876-6a4487cabb80",
   "metadata": {},
   "outputs": [
    {
     "data": {
      "text/html": [
       "<html><body><table border=\"1\"><tr><th style=\"text-align:left;white-space:pre\">sformat('p1 {:.4f} p2 {} p3 {} p4 {}', param1, param2, param3, param4)</th></tr><tr><td style=\"text-align:left;white-space:pre\">p1 0.0025 p2 25 p3 A p4 2020-06-29</td></tr><tr><td style=\"text-align:left;white-space:pre\">p1 0.0005 p2 5 p3 B p4 2020-06-29</td></tr><tr><td style=\"text-align:left;white-space:pre\">p1 5.5555 p2 -5 p3 C p4 2020-06-29</td></tr><tr><td style=\"text-align:left;white-space:pre\">p1 -9.0000 p2 -9 p3 D p4 2020-06-29</td></tr></table></body></html>"
      ]
     },
     "metadata": {},
     "output_type": "display_data"
    }
   ],
   "source": [
    "select sformat('p1 {:.4f} p2 {} p3 {} p4 {}', param1, param2, param3, param4) from t2;"
   ]
  },
  {
   "cell_type": "markdown",
   "id": "092c8bfc-477c-4d05-81fe-6238adac27e0",
   "metadata": {},
   "source": [
    "# utf8 vs. latin1"
   ]
  },
  {
   "cell_type": "code",
   "execution_count": 14,
   "id": "fed3a7cd-6ecc-4847-afbe-3235aea462c0",
   "metadata": {},
   "outputs": [
    {
     "data": {
      "text/html": [
       "Query OK"
      ]
     },
     "metadata": {},
     "output_type": "display_data"
    }
   ],
   "source": [
    "set names utf8;"
   ]
  },
  {
   "cell_type": "code",
   "execution_count": 17,
   "id": "40420588-a441-49f3-8127-717914b78edd",
   "metadata": {},
   "outputs": [
    {
     "data": {
      "text/html": [
       "Query OK"
      ]
     },
     "metadata": {},
     "output_type": "display_data"
    }
   ],
   "source": [
    "create or replace table t3 (format_str   text character set 'latin1',\n",
    "                            first_param  text character set 'utf8',\n",
    "                            second_param text character set 'latin1');"
   ]
  },
  {
   "cell_type": "code",
   "execution_count": 18,
   "id": "491bf570-1432-4c53-aa90-ce731fe8c2be",
   "metadata": {},
   "outputs": [
    {
     "data": {
      "text/html": [
       "Query OK"
      ]
     },
     "metadata": {},
     "output_type": "display_data"
    }
   ],
   "source": [
    "insert into t3 values ('test 1 {} {}', UNHEX('C3A5'), UNHEX('E5'));"
   ]
  },
  {
   "cell_type": "code",
   "execution_count": 19,
   "id": "5bfba12c-e5fe-4d58-92f7-a0f0f12c1f56",
   "metadata": {},
   "outputs": [
    {
     "data": {
      "text/html": [
       "<html><body><table border=\"1\"><tr><th style=\"text-align:left;white-space:pre\">sformat(format_str, first_param, second_param)</th></tr><tr><td style=\"text-align:left;white-space:pre\">test 1 å å</td></tr></table></body></html>"
      ]
     },
     "metadata": {},
     "output_type": "display_data"
    }
   ],
   "source": [
    "select sformat(format_str, first_param, second_param) from t3;"
   ]
  },
  {
   "cell_type": "code",
   "execution_count": 20,
   "id": "8d100ff8-3505-40e6-a934-687315774b09",
   "metadata": {},
   "outputs": [
    {
     "data": {
      "text/html": [
       "<html><body><table border=\"1\"><tr><th style=\"text-align:left;white-space:pre\">HEX(sformat(format_str, first_param, second_param))</th></tr><tr><td style=\"text-align:left;white-space:pre\">74657374203120C3A520C3A5</td></tr></table></body></html>"
      ]
     },
     "metadata": {},
     "output_type": "display_data"
    }
   ],
   "source": [
    "select HEX(sformat(format_str, first_param, second_param)) from t3;"
   ]
  },
  {
   "cell_type": "markdown",
   "id": "78e35ac4-b310-46fe-ab2f-21c84b23f23d",
   "metadata": {},
   "source": [
    "# bit, boolean, decimal, timestamp"
   ]
  },
  {
   "cell_type": "code",
   "execution_count": 21,
   "id": "70f6f464-3c37-4a4b-8062-fcb62d29b9b7",
   "metadata": {},
   "outputs": [
    {
     "data": {
      "text/html": [
       "Query OK"
      ]
     },
     "metadata": {},
     "output_type": "display_data"
    }
   ],
   "source": [
    "set names latin1;"
   ]
  },
  {
   "cell_type": "code",
   "execution_count": 22,
   "id": "a099dd7b-970b-4a69-94ef-d82ab9b769d8",
   "metadata": {},
   "outputs": [
    {
     "data": {
      "text/html": [
       "Query OK"
      ]
     },
     "metadata": {},
     "output_type": "display_data"
    }
   ],
   "source": [
    "create or replace table t4 (p1 bit(8), p2 boolean, p3 DECIMAL, p4 TIMESTAMP);"
   ]
  },
  {
   "cell_type": "code",
   "execution_count": 23,
   "id": "de015191-a844-497a-8a47-611af7a43376",
   "metadata": {},
   "outputs": [
    {
     "data": {
      "text/html": [
       "Query OK"
      ]
     },
     "metadata": {},
     "output_type": "display_data"
    }
   ],
   "source": [
    "insert into t4 values (42, TRUE,  42, '2021-08-18 16:50:07'),\n",
    "                      (24, FALSE, 24, '0000-00-00 00:00:00');"
   ]
  },
  {
   "cell_type": "code",
   "execution_count": 24,
   "id": "5b986fdb-95a6-41f8-91c7-dd7f1c2254df",
   "metadata": {},
   "outputs": [
    {
     "data": {
      "text/html": [
       "<html><body><table border=\"1\"><tr><th style=\"text-align:left;white-space:pre\">sformat('{}: {} {} {} {}', 'Data', p1, p2, p3, p4)</th></tr><tr><td style=\"text-align:left;white-space:pre\">Data: 42 1 42 2021-08-18 16:50:07</td></tr><tr><td style=\"text-align:left;white-space:pre\">Data: 24 0 24 0000-00-00 00:00:00</td></tr></table></body></html>"
      ]
     },
     "metadata": {},
     "output_type": "display_data"
    }
   ],
   "source": [
    "select sformat('{}: {} {} {} {}', 'Data', p1, p2, p3, p4) from t4;"
   ]
  },
  {
   "cell_type": "markdown",
   "id": "4e680638-2bfc-4b1a-8e38-18eb1bb5b695",
   "metadata": {},
   "source": [
    "# HEX and more utf8"
   ]
  },
  {
   "cell_type": "code",
   "execution_count": 25,
   "id": "f8028839-4f60-4ba2-ae41-acc6938f8b07",
   "metadata": {},
   "outputs": [
    {
     "data": {
      "text/html": [
       "Query OK"
      ]
     },
     "metadata": {},
     "output_type": "display_data"
    }
   ],
   "source": [
    "set names utf8;"
   ]
  },
  {
   "cell_type": "code",
   "execution_count": 26,
   "id": "e60af8b4-534d-4c4a-b4de-81be9109c751",
   "metadata": {},
   "outputs": [
    {
     "data": {
      "text/html": [
       "Query OK"
      ]
     },
     "metadata": {},
     "output_type": "display_data"
    }
   ],
   "source": [
    "create or replace table t5 (param text character SET utf8 COLLATE utf8_general_ci);"
   ]
  },
  {
   "cell_type": "code",
   "execution_count": 27,
   "id": "e2ab632b-fc2d-450f-aa83-c665d948a148",
   "metadata": {},
   "outputs": [
    {
     "data": {
      "text/html": [
       "Query OK"
      ]
     },
     "metadata": {},
     "output_type": "display_data"
    }
   ],
   "source": [
    "insert into t5 values (UNHEX('C3A5')),(UNHEX('C5BB')),(UNHEX('e0b1bb')),\n",
    "                      (UNHEX('C38A')), (NULL);"
   ]
  },
  {
   "cell_type": "code",
   "execution_count": 28,
   "id": "aa922ada-7060-443a-9a4c-6918d135fd91",
   "metadata": {},
   "outputs": [
    {
     "data": {
      "text/html": [
       "<html><body><table border=\"1\"><tr><th style=\"text-align:left;white-space:pre\">sformat('{}', param)</th></tr><tr><td style=\"text-align:left;white-space:pre\">å</td></tr><tr><td style=\"text-align:left;white-space:pre\">Ż</td></tr><tr><td style=\"text-align:left;white-space:pre\">౻</td></tr><tr><td style=\"text-align:left;white-space:pre\">Ê</td></tr><tr><td style=\"text-align:left;white-space:pre\">NULL</td></tr></table></body></html>"
      ]
     },
     "metadata": {},
     "output_type": "display_data"
    }
   ],
   "source": [
    "select sformat('{}', param) from t5;"
   ]
  },
  {
   "cell_type": "code",
   "execution_count": 29,
   "id": "48c6997b-126b-47aa-8206-da811c734181",
   "metadata": {},
   "outputs": [
    {
     "data": {
      "text/html": [
       "<html><body><table border=\"1\"><tr><th style=\"text-align:left;white-space:pre\">HEX(sformat('{}', param))</th></tr><tr><td style=\"text-align:left;white-space:pre\">C3A5</td></tr><tr><td style=\"text-align:left;white-space:pre\">C5BB</td></tr><tr><td style=\"text-align:left;white-space:pre\">E0B1BB</td></tr><tr><td style=\"text-align:left;white-space:pre\">C38A</td></tr><tr><td style=\"text-align:left;white-space:pre\">NULL</td></tr></table></body></html>"
      ]
     },
     "metadata": {},
     "output_type": "display_data"
    }
   ],
   "source": [
    "select HEX(sformat('{}', param)) from t5;"
   ]
  },
  {
   "cell_type": "markdown",
   "id": "bf3fd736-1f79-49ed-9079-47cf6e3e0935",
   "metadata": {},
   "source": [
    "# A large number of sformat examples"
   ]
  },
  {
   "cell_type": "code",
   "execution_count": 22,
   "id": "58e72590-ae15-4c2e-aa50-326c57ae9d39",
   "metadata": {},
   "outputs": [],
   "source": [
    "select sformat('Num {:L}', 13800000000);"
   ]
  },
  {
   "cell_type": "code",
   "execution_count": 22,
   "id": "63d0f1c8-8506-4dde-9180-5403cc20bbda",
   "metadata": {},
   "outputs": [],
   "source": [
    "select sformat('Num [{:20}]', 42);"
   ]
  },
  {
   "cell_type": "code",
   "execution_count": 22,
   "id": "4fef7d6e-f462-464b-b9ef-72712b1d7cad",
   "metadata": {},
   "outputs": [],
   "source": [
    "select sformat('Number: {:*^{}}', 4, 5);"
   ]
  },
  {
   "cell_type": "code",
   "execution_count": 22,
   "id": "8993a746-fa92-4599-8105-7833b7ab152c",
   "metadata": {},
   "outputs": [],
   "source": [
    "select sformat('{:02} - {:02} - {:02}', 1, 2, 3);"
   ]
  },
  {
   "cell_type": "code",
   "execution_count": 22,
   "id": "a4cbcd1e-b998-4fdf-9bab-0a936d2259a4",
   "metadata": {},
   "outputs": [],
   "source": [
    "select sformat('Character {:c}', 'h');"
   ]
  },
  {
   "cell_type": "code",
   "execution_count": 22,
   "id": "1bf1c6ff-ffbb-407f-8ceb-42cd809aa989",
   "metadata": {},
   "outputs": [],
   "source": [
    "select sformat('String {:s}', 'hello');"
   ]
  },
  {
   "cell_type": "code",
   "execution_count": 22,
   "id": "06a33465-c15b-4795-b3dd-fd8fe7c203b7",
   "metadata": {},
   "outputs": [],
   "source": [
    "select sformat('Large {0:+010.4g}', 392.64);"
   ]
  },
  {
   "cell_type": "code",
   "execution_count": 22,
   "id": "d012d624-a900-4437-bed0-6771b0e64eea",
   "metadata": {},
   "outputs": [],
   "source": [
    "select sformat('Large {:g}', 392.65);"
   ]
  },
  {
   "cell_type": "code",
   "execution_count": 22,
   "id": "9e80e962-427f-467c-a637-1ccfd3514369",
   "metadata": {},
   "outputs": [],
   "source": [
    "select sformat('Float {:.2f}', 42.0);"
   ]
  },
  {
   "cell_type": "code",
   "execution_count": 22,
   "id": "f7326555-f988-4b1c-bdbc-b6b5183ea19a",
   "metadata": {},
   "outputs": [],
   "source": [
    "select sformat('Float {:f}', 42.0);"
   ]
  },
  {
   "cell_type": "code",
   "execution_count": 22,
   "id": "8255c096-609c-46a5-8bbf-432f99d4360c",
   "metadata": {},
   "outputs": [],
   "source": [
    "select sformat('Number {:d}', 42);"
   ]
  },
  {
   "cell_type": "code",
   "execution_count": 22,
   "id": "eeb42669-db47-41aa-baa7-f114b7b51df6",
   "metadata": {},
   "outputs": [],
   "source": [
    "select sformat('Number {:{}}', 5, 5);"
   ]
  },
  {
   "cell_type": "code",
   "execution_count": 22,
   "id": "be7406fb-b2c8-4a5f-8e9b-1f853b459fd5",
   "metadata": {},
   "outputs": [],
   "source": [
    "select sformat('Number [{:10}]', 9999);"
   ]
  },
  {
   "cell_type": "code",
   "execution_count": 22,
   "id": "246d624f-7b18-49fb-9b38-8553c013d6d4",
   "metadata": {},
   "outputs": [],
   "source": [
    "select sformat('Number {:.3}', 3.1416);"
   ]
  },
  {
   "cell_type": "code",
   "execution_count": 22,
   "id": "4a8323b1-517f-4598-9081-380042fd8936",
   "metadata": {},
   "outputs": [],
   "source": [
    "select sformat('int: {0:d};  hex: {0:x};  oct: {0:o}', 42);"
   ]
  },
  {
   "cell_type": "code",
   "execution_count": 22,
   "id": "d78bcad8-1308-4d1d-a326-eb1f153660bb",
   "metadata": {},
   "outputs": [],
   "source": [
    "select sformat('int: {0:d};  hex: {0:#x};  oct: {0:#o}', 42);"
   ]
  },
  {
   "cell_type": "code",
   "execution_count": 22,
   "id": "268639aa-91cc-4666-81c1-c71f6e99d3c5",
   "metadata": {},
   "outputs": [],
   "source": [
    "select sformat('The hexadecimal version of {0} is {0:X}', 255);"
   ]
  },
  {
   "cell_type": "code",
   "execution_count": 22,
   "id": "9361d961-9879-4641-b5ad-77b10a981b6f",
   "metadata": {},
   "outputs": [],
   "source": [
    "select sformat('The hexadecimal version of {0} is {0:x}', 255);"
   ]
  },
  {
   "cell_type": "code",
   "execution_count": 22,
   "id": "186c7b6d-74c9-4bab-9007-9085ea133c59",
   "metadata": {},
   "outputs": [],
   "source": [
    "select sformat('The octal version of {0} is {0:o}', 10);"
   ]
  },
  {
   "cell_type": "code",
   "execution_count": 22,
   "id": "bb5f1b79-dc10-43e5-9940-4a6d7bccf76d",
   "metadata": {},
   "outputs": [],
   "source": [
    "select sformat('The binary version of {0} is {0:b}', 5);"
   ]
  },
  {
   "cell_type": "code",
   "execution_count": 22,
   "id": "b9b1f852-fa22-4498-8e56-5a5ed3eb4d77",
   "metadata": {},
   "outputs": [],
   "source": [
    "select sformat('{:+f}; {:+f}', 3.14, -3.14);"
   ]
  },
  {
   "cell_type": "code",
   "execution_count": 22,
   "id": "048f0875-ddbb-4fa4-83b4-3870ed00a4a0",
   "metadata": {},
   "outputs": [],
   "source": [
    "select sformat('{: f}; {: f}', 3.14, -3.14);"
   ]
  },
  {
   "cell_type": "code",
   "execution_count": 22,
   "id": "d0358c43-4117-4af5-9ec8-411cf4966fbe",
   "metadata": {},
   "outputs": [],
   "source": [
    "select sformat('{:-f}; {:-f}', 3.14, -3.14);"
   ]
  },
  {
   "cell_type": "code",
   "execution_count": 22,
   "id": "3514b994-435c-47bc-b6e9-d9fc25f2cf09",
   "metadata": {},
   "outputs": [],
   "source": [
    "select sformat('The temperature is between {: } and {: } degrees celsius.', -3, 7);"
   ]
  },
  {
   "cell_type": "code",
   "execution_count": 22,
   "id": "ee0dbbb4-16fd-4794-906f-234911b49a6a",
   "metadata": {},
   "outputs": [],
   "source": [
    "select sformat('The temperature is between {:-} and {:-} degrees celsius.', -3, 7);"
   ]
  },
  {
   "cell_type": "code",
   "execution_count": 22,
   "id": "b4241f92-5769-4e40-a2b8-b84b6446fe6e",
   "metadata": {},
   "outputs": [],
   "source": [
    "select sformat('The temperature is between {:+} and {:+} degrees celsius.', -3, 7);"
   ]
  },
  {
   "cell_type": "code",
   "execution_count": 22,
   "id": "b4e0921e-8439-4b32-aa30-932dfeb91a44",
   "metadata": {},
   "outputs": [],
   "source": [
    "select sformat('We have {:<8} chickens.', 49);"
   ]
  },
  {
   "cell_type": "code",
   "execution_count": 22,
   "id": "d37e2052-2999-46d6-998e-898e16e97daa",
   "metadata": {},
   "outputs": [],
   "source": [
    "select sformat('Center align [{:*^10}]', 'data');"
   ]
  },
  {
   "cell_type": "code",
   "execution_count": 22,
   "id": "10249e78-84fb-4a70-9b81-7df9ef19d9e8",
   "metadata": {},
   "outputs": [],
   "source": [
    "select sformat('Center align [{:^10}].', 'data');"
   ]
  },
  {
   "cell_type": "code",
   "execution_count": 22,
   "id": "46dcf114-3012-4af8-a346-012ca30fbb8c",
   "metadata": {},
   "outputs": [],
   "source": [
    "select sformat('Right align [{:>10}].', 'data');"
   ]
  },
  {
   "cell_type": "code",
   "execution_count": 22,
   "id": "bb1fdf2e-2c94-4651-b429-a74f4461df4c",
   "metadata": {},
   "outputs": [],
   "source": [
    "select sformat('Left align [{:<10}].', 'data');"
   ]
  },
  {
   "cell_type": "code",
   "execution_count": 22,
   "id": "ba616587-01e9-4925-a01d-32f2657bc3a9",
   "metadata": {},
   "outputs": [],
   "source": [
    "select sformat('{0}{1}{0}', 'abra', 'cad');"
   ]
  },
  {
   "cell_type": "code",
   "execution_count": 22,
   "id": "0e458226-59de-42fc-8e02-3ad3a3c8bc37",
   "metadata": {},
   "outputs": [
    {
     "data": {
      "text/html": [
       "<html><body><table border=\"1\"><tr><th style=\"text-align:left;white-space:pre\">sformat('Num {:L}', 13800000000)</th></tr><tr><td style=\"text-align:left;white-space:pre\">Num 13,800,000,000</td></tr></table><table border=\"1\"><tr><th style=\"text-align:left;white-space:pre\">sformat('Num [{:20}]', 42)</th></tr><tr><td style=\"text-align:left;white-space:pre\">Num [                  42]</td></tr></table><table border=\"1\"><tr><th style=\"text-align:left;white-space:pre\">sformat('Number: {:*^{}}', 4, 5)</th></tr><tr><td style=\"text-align:left;white-space:pre\">Number: **4**</td></tr></table><table border=\"1\"><tr><th style=\"text-align:left;white-space:pre\">sformat('{:02} - {:02} - {:02}', 1, 2, 3)</th></tr><tr><td style=\"text-align:left;white-space:pre\">01 - 02 - 03</td></tr></table><table border=\"1\"><tr><th style=\"text-align:left;white-space:pre\">sformat('Character {:c}', 'h')</th></tr><tr><td style=\"text-align:left;white-space:pre\">Character h</td></tr></table><table border=\"1\"><tr><th style=\"text-align:left;white-space:pre\">sformat('String {:s}', 'hello')</th></tr><tr><td style=\"text-align:left;white-space:pre\">String hello</td></tr></table><table border=\"1\"><tr><th style=\"text-align:left;white-space:pre\">sformat('Large {0:+010.4g}', 392.64)</th></tr><tr><td style=\"text-align:left;white-space:pre\">Large +0000392.6</td></tr></table><table border=\"1\"><tr><th style=\"text-align:left;white-space:pre\">sformat('Large {:g}', 392.65)</th></tr><tr><td style=\"text-align:left;white-space:pre\">Large 392.65</td></tr></table><table border=\"1\"><tr><th style=\"text-align:left;white-space:pre\">sformat('Float {:.2f}', 42.0)</th></tr><tr><td style=\"text-align:left;white-space:pre\">Float 42.00</td></tr></table><table border=\"1\"><tr><th style=\"text-align:left;white-space:pre\">sformat('Float {:f}', 42.0)</th></tr><tr><td style=\"text-align:left;white-space:pre\">Float 42.000000</td></tr></table><table border=\"1\"><tr><th style=\"text-align:left;white-space:pre\">sformat('Number {:d}', 42)</th></tr><tr><td style=\"text-align:left;white-space:pre\">Number 42</td></tr></table><table border=\"1\"><tr><th style=\"text-align:left;white-space:pre\">sformat('Number {:{}}', 5, 5)</th></tr><tr><td style=\"text-align:left;white-space:pre\">Number     5</td></tr></table><table border=\"1\"><tr><th style=\"text-align:left;white-space:pre\">sformat('Number [{:10}]', 9999)</th></tr><tr><td style=\"text-align:left;white-space:pre\">Number [      9999]</td></tr></table><table border=\"1\"><tr><th style=\"text-align:left;white-space:pre\">sformat('Number {:.3}', 3.1416)</th></tr><tr><td style=\"text-align:left;white-space:pre\">Number 3.14</td></tr></table><table border=\"1\"><tr><th style=\"text-align:left;white-space:pre\">sformat('int: {0:d};  hex: {0:x};  oct: {0:o}', 42)</th></tr><tr><td style=\"text-align:left;white-space:pre\">int: 42;  hex: 2a;  oct: 52</td></tr></table><table border=\"1\"><tr><th style=\"text-align:left;white-space:pre\">sformat('int: {0:d};  hex: {0:#x};  oct: {0:#o}', 42)</th></tr><tr><td style=\"text-align:left;white-space:pre\">int: 42;  hex: 0x2a;  oct: 052</td></tr></table><table border=\"1\"><tr><th style=\"text-align:left;white-space:pre\">sformat('The hexadecimal version of {0} is {0:X}', 255)</th></tr><tr><td style=\"text-align:left;white-space:pre\">The hexadecimal version of 255 is FF</td></tr></table><table border=\"1\"><tr><th style=\"text-align:left;white-space:pre\">sformat('The hexadecimal version of {0} is {0:x}', 255)</th></tr><tr><td style=\"text-align:left;white-space:pre\">The hexadecimal version of 255 is ff</td></tr></table><table border=\"1\"><tr><th style=\"text-align:left;white-space:pre\">sformat('The octal version of {0} is {0:o}', 10)</th></tr><tr><td style=\"text-align:left;white-space:pre\">The octal version of 10 is 12</td></tr></table><table border=\"1\"><tr><th style=\"text-align:left;white-space:pre\">sformat('The binary version of {0} is {0:b}', 5)</th></tr><tr><td style=\"text-align:left;white-space:pre\">The binary version of 5 is 101</td></tr></table><table border=\"1\"><tr><th style=\"text-align:left;white-space:pre\">sformat('{:+f}; {:+f}', 3.14, -3.14)</th></tr><tr><td style=\"text-align:left;white-space:pre\">+3.140000; -3.140000</td></tr></table><table border=\"1\"><tr><th style=\"text-align:left;white-space:pre\">sformat('{: f}; {: f}', 3.14, -3.14)</th></tr><tr><td style=\"text-align:left;white-space:pre\"> 3.140000; -3.140000</td></tr></table><table border=\"1\"><tr><th style=\"text-align:left;white-space:pre\">sformat('{:-f}; {:-f}', 3.14, -3.14)</th></tr><tr><td style=\"text-align:left;white-space:pre\">3.140000; -3.140000</td></tr></table><table border=\"1\"><tr><th style=\"text-align:left;white-space:pre\">sformat('The temperature is between {: } and {: } degrees celsius.', -3, 7)</th></tr><tr><td style=\"text-align:left;white-space:pre\">The temperature is between -3 and  7 degrees celsius.</td></tr></table><table border=\"1\"><tr><th style=\"text-align:left;white-space:pre\">sformat('The temperature is between {:-} and {:-} degrees celsius.', -3, 7)</th></tr><tr><td style=\"text-align:left;white-space:pre\">The temperature is between -3 and 7 degrees celsius.</td></tr></table><table border=\"1\"><tr><th style=\"text-align:left;white-space:pre\">sformat('The temperature is between {:+} and {:+} degrees celsius.', -3, 7)</th></tr><tr><td style=\"text-align:left;white-space:pre\">The temperature is between -3 and +7 degrees celsius.</td></tr></table><table border=\"1\"><tr><th style=\"text-align:left;white-space:pre\">sformat('We have {:&lt;8} chickens.', 49)</th></tr><tr><td style=\"text-align:left;white-space:pre\">We have 49       chickens.</td></tr></table><table border=\"1\"><tr><th style=\"text-align:left;white-space:pre\">sformat('Center align [{:*^10}]', 'data')</th></tr><tr><td style=\"text-align:left;white-space:pre\">Center align [***data***]</td></tr></table><table border=\"1\"><tr><th style=\"text-align:left;white-space:pre\">sformat('Center align [{:^10}].', 'data')</th></tr><tr><td style=\"text-align:left;white-space:pre\">Center align [   data   ].</td></tr></table><table border=\"1\"><tr><th style=\"text-align:left;white-space:pre\">sformat('Right align [{:&gt;10}].', 'data')</th></tr><tr><td style=\"text-align:left;white-space:pre\">Right align [      data].</td></tr></table><table border=\"1\"><tr><th style=\"text-align:left;white-space:pre\">sformat('Left align [{:&lt;10}].', 'data')</th></tr><tr><td style=\"text-align:left;white-space:pre\">Left align [data      ].</td></tr></table><table border=\"1\"><tr><th style=\"text-align:left;white-space:pre\">sformat('{0}{1}{0}', 'abra', 'cad')</th></tr><tr><td style=\"text-align:left;white-space:pre\">abracadabra</td></tr></table><table border=\"1\"><tr><th style=\"text-align:left;white-space:pre\">sformat('Change Order {1} {0}', 'second', 'first')</th></tr><tr><td style=\"text-align:left;white-space:pre\">Change Order first second</td></tr></table></body></html>"
      ]
     },
     "metadata": {},
     "output_type": "display_data"
    }
   ],
   "source": [
    "select sformat('Change Order {1} {0}', 'second', 'first');"
   ]
  },
  {
   "cell_type": "code",
   "execution_count": null,
   "id": "bd5cba56-85c1-42a8-9c70-84c65befe431",
   "metadata": {},
   "outputs": [],
   "source": []
  }
 ],
 "metadata": {
  "kernelspec": {
   "display_name": "MariaDB",
   "language": "SQL",
   "name": "mariadb_kernel"
  },
  "language_info": {
   "file_extension": ".sql",
   "mimetype": "text/plain",
   "name": "SQL"
  }
 },
 "nbformat": 4,
 "nbformat_minor": 5
}
