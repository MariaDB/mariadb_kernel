{
 "cells": [
  {
   "cell_type": "markdown",
   "id": "af542447-9b58-4f1a-be0f-a57453e3aee2",
   "metadata": {},
   "source": [
    "### Check you're in the right MariaDB 10.7 preview"
   ]
  },
  {
   "cell_type": "code",
   "execution_count": 11,
   "id": "8aa26d45-35d4-42d9-a099-000f3810a78a",
   "metadata": {},
   "outputs": [
    {
     "data": {
      "text/html": [
       "<html><body><table border=\"1\"><tr><th style=\"text-align:left;white-space:pre\">version()</th></tr><tr><td style=\"text-align:left;white-space:pre\">10.7.0-MariaDB-MDEV-9245-password-reuse</td></tr></table></body></html>"
      ]
     },
     "metadata": {},
     "output_type": "display_data"
    }
   ],
   "source": [
    "select version();"
   ]
  },
  {
   "cell_type": "markdown",
   "id": "8e74427d-752d-4450-8cfc-b11065633178",
   "metadata": {},
   "source": [
    "### Install the plugin by issuing an INSTALL statement"
   ]
  },
  {
   "cell_type": "code",
   "execution_count": 13,
   "id": "cba30441-8ec0-49de-bb37-715a5ed76804",
   "metadata": {},
   "outputs": [
    {
     "name": "stderr",
     "output_type": "stream",
     "text": [
      "Can't open shared library '/usr/local/mysql/lib/plugin/password_reuse_check.so' (errno: 2, cannot open shared object file: No such file or directory)\n",
      "\u0007\n"
     ]
    }
   ],
   "source": [
    "INSTALL SONAME 'password_reuse_check';"
   ]
  },
  {
   "cell_type": "markdown",
   "id": "c3dfd9a3-5695-4841-a3f8-0c3d0abe1bba",
   "metadata": {},
   "source": [
    "### Set a password for user1"
   ]
  },
  {
   "cell_type": "code",
   "execution_count": 6,
   "id": "f78c2048-7417-4748-90f1-109e6dab9729",
   "metadata": {},
   "outputs": [
    {
     "data": {
      "text/html": [
       "Query OK"
      ]
     },
     "metadata": {},
     "output_type": "display_data"
    }
   ],
   "source": [
    "GRANT SELECT ON *.* TO user1@localhost identified by 'pwd1';"
   ]
  },
  {
   "cell_type": "markdown",
   "id": "444ac553-2434-4289-8427-6d7d5961cf64",
   "metadata": {},
   "source": [
    "### Try to reuse the same password, now you get an error"
   ]
  },
  {
   "cell_type": "code",
   "execution_count": 7,
   "id": "56a3bf6e-c29d-447d-a4be-4e117a5ba129",
   "metadata": {},
   "outputs": [
    {
     "data": {
      "text/html": [
       "Query OK"
      ]
     },
     "metadata": {},
     "output_type": "display_data"
    }
   ],
   "source": [
    "GRANT SELECT ON *.* TO user1@localhost identified by 'pwd1';"
   ]
  },
  {
   "cell_type": "code",
   "execution_count": 8,
   "id": "b0ca1bf0-2636-45ea-acc9-f18893d8eeb7",
   "metadata": {},
   "outputs": [],
   "source": [
    "### Set a different password, the "
   ]
  },
  {
   "cell_type": "code",
   "execution_count": 8,
   "id": "1cfcfb86-7b59-491a-abb1-1b3afcaa5d67",
   "metadata": {},
   "outputs": [
    {
     "data": {
      "text/html": [
       "Query OK"
      ]
     },
     "metadata": {},
     "output_type": "display_data"
    }
   ],
   "source": [
    "GRANT SELECT ON *.* TO user1@localhost identified by 'pwd2';"
   ]
  },
  {
   "cell_type": "code",
   "execution_count": 9,
   "id": "3ee26356-aa20-4901-aba0-e026227e2274",
   "metadata": {},
   "outputs": [],
   "source": []
  },
  {
   "cell_type": "code",
   "execution_count": 9,
   "id": "af5ad349-a76b-4d4f-b74e-a4c6061565b8",
   "metadata": {},
   "outputs": [
    {
     "data": {
      "text/html": [
       "Query OK"
      ]
     },
     "metadata": {},
     "output_type": "display_data"
    }
   ],
   "source": [
    "GRANT SELECT ON *.* TO user1@localhost identified by 'pwd1';"
   ]
  },
  {
   "cell_type": "code",
   "execution_count": 10,
   "id": "6e68895d-21e5-40ee-b69d-0b77efd49d7d",
   "metadata": {},
   "outputs": [],
   "source": []
  },
  {
   "cell_type": "code",
   "execution_count": 10,
   "id": "0a37602b-fe3b-4545-9552-852e30b812ab",
   "metadata": {},
   "outputs": [
    {
     "data": {
      "text/html": [
       "Query OK"
      ]
     },
     "metadata": {},
     "output_type": "display_data"
    }
   ],
   "source": [
    "set password for user1@localhost = password('pwd1');"
   ]
  },
  {
   "cell_type": "code",
   "execution_count": null,
   "id": "c8987712-466e-4484-940d-e8f7474f117b",
   "metadata": {},
   "outputs": [],
   "source": []
  }
 ],
 "metadata": {
  "kernelspec": {
   "display_name": "MariaDB",
   "language": "SQL",
   "name": "mariadb_kernel"
  },
  "language_info": {
   "file_extension": ".sql",
   "mimetype": "text/plain",
   "name": "SQL"
  }
 },
 "nbformat": 4,
 "nbformat_minor": 5
}
