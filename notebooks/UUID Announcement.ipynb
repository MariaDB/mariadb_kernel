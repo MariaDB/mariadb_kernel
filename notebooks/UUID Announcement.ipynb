{
 "cells": [
  {
   "cell_type": "code",
   "execution_count": 1,
   "id": "d2261e7e-b834-4881-8ca7-cb4aa54eed90",
   "metadata": {},
   "outputs": [
    {
     "data": {
      "text/html": [
       "<html><body><table border=\"1\"><tr><th style=\"text-align:left;white-space:pre\">version()</th></tr><tr><td style=\"text-align:left;white-space:pre\">10.7.0-MariaDB-MDEV-4958-uuid</td></tr></table></body></html>"
      ]
     },
     "metadata": {},
     "output_type": "display_data"
    }
   ],
   "source": [
    "select version();"
   ]
  },
  {
   "cell_type": "markdown",
   "id": "dccbf0d2",
   "metadata": {},
   "source": [
    "# Create a Table of UUID values"
   ]
  },
  {
   "cell_type": "code",
   "execution_count": 2,
   "id": "8188fddb-8b96-4154-aad3-68570984c38e",
   "metadata": {},
   "outputs": [
    {
     "data": {
      "text/html": []
     },
     "metadata": {},
     "output_type": "display_data"
    }
   ],
   "source": [
    "create database if not exists uuidtest;"
   ]
  },
  {
   "cell_type": "code",
   "execution_count": 3,
   "id": "edf1cb48-9b84-430d-8d38-33d8a229b70b",
   "metadata": {},
   "outputs": [
    {
     "data": {
      "text/html": []
     },
     "metadata": {},
     "output_type": "display_data"
    }
   ],
   "source": [
    "use uuidtest;"
   ]
  },
  {
   "cell_type": "code",
   "execution_count": 4,
   "id": "6a835f61-afb8-4d22-9748-b99eb0de18aa",
   "metadata": {},
   "outputs": [
    {
     "data": {
      "text/html": []
     },
     "metadata": {},
     "output_type": "display_data"
    }
   ],
   "source": [
    "CREATE OR REPLACE TABLE t1 (a UUID);"
   ]
  },
  {
   "cell_type": "code",
   "execution_count": 5,
   "id": "47169f7a-76f7-448e-ace4-7cdeed6bc77f",
   "metadata": {},
   "outputs": [
    {
     "data": {
      "text/html": []
     },
     "metadata": {},
     "output_type": "display_data"
    }
   ],
   "source": [
    "INSERT INTO t1 VALUES ('00000000-0000-0000-0000-000000000000');\n"
   ]
  },
  {
   "cell_type": "code",
   "execution_count": 6,
   "id": "26a574e1-cdf1-40a2-96f6-e5889c8a1eb3",
   "metadata": {},
   "outputs": [
    {
     "data": {
      "text/html": []
     },
     "metadata": {},
     "output_type": "display_data"
    }
   ],
   "source": [
    "INSERT INTO t1 VALUES ('ffffffff-ffff-ffff-ffff-ffffffffffff');"
   ]
  },
  {
   "cell_type": "code",
   "execution_count": 7,
   "id": "3e0defc7-eab0-443f-b396-7b1db2e7ada1",
   "metadata": {},
   "outputs": [
    {
     "data": {
      "text/html": []
     },
     "metadata": {},
     "output_type": "display_data"
    }
   ],
   "source": [
    "INSERT INTO t1 VALUES('123e4567-e89b-12d3-a456-426655440000');"
   ]
  },
  {
   "cell_type": "code",
   "execution_count": 8,
   "id": "04a01ae9-24fd-4b7e-8bfe-96a868cb4d4f",
   "metadata": {},
   "outputs": [
    {
     "data": {
      "text/html": [
       "<html><body><table border=\"1\"><tr><th style=\"text-align:left;white-space:pre\">a</th><th style=\"text-align:left;white-space:pre\">length(a)</th></tr><tr><td style=\"text-align:left;white-space:pre\">00000000-0000-0000-0000-000000000000</td><td style=\"text-align:left;white-space:pre\">36</td></tr><tr><td style=\"text-align:left;white-space:pre\">ffffffff-ffff-ffff-ffff-ffffffffffff</td><td style=\"text-align:left;white-space:pre\">36</td></tr><tr><td style=\"text-align:left;white-space:pre\">123e4567-e89b-12d3-a456-426655440000</td><td style=\"text-align:left;white-space:pre\">36</td></tr></table></body></html>"
      ]
     },
     "metadata": {},
     "output_type": "display_data"
    }
   ],
   "source": [
    "select *, length(a) from t1;"
   ]
  },
  {
   "cell_type": "markdown",
   "id": "9bf5f6da",
   "metadata": {},
   "source": [
    "# Create a Table of UUID with default UUID values"
   ]
  },
  {
   "cell_type": "code",
   "execution_count": 9,
   "id": "8b81e633",
   "metadata": {},
   "outputs": [
    {
     "data": {
      "text/html": []
     },
     "metadata": {},
     "output_type": "display_data"
    }
   ],
   "source": [
    "CREATE OR REPLACE TABLE t2 (id UUID NOT NULL PRIMARY KEY DEFAULT(UUID()));"
   ]
  },
  {
   "cell_type": "markdown",
   "id": "90bc30d2",
   "metadata": {},
   "source": [
    "Here **UUID()** is the function that returns a **UUID**. Below we insert 3 default rows."
   ]
  },
  {
   "cell_type": "code",
   "execution_count": 10,
   "id": "75edc9a0",
   "metadata": {},
   "outputs": [
    {
     "data": {
      "text/html": []
     },
     "metadata": {},
     "output_type": "display_data"
    }
   ],
   "source": [
    "INSERT INTO t2 VALUES (),(),();"
   ]
  },
  {
   "cell_type": "code",
   "execution_count": 11,
   "id": "3864827c",
   "metadata": {},
   "outputs": [
    {
     "data": {
      "text/html": [
       "<html><body><table border=\"1\"><tr><th style=\"text-align:left;white-space:pre\">id</th></tr><tr><td style=\"text-align:left;white-space:pre\">4835ad44-16ae-11ec-9697-3c58c2a5ca80</td></tr><tr><td style=\"text-align:left;white-space:pre\">4835ae00-16ae-11ec-9697-3c58c2a5ca80</td></tr><tr><td style=\"text-align:left;white-space:pre\">4835ae7a-16ae-11ec-9697-3c58c2a5ca80</td></tr></table></body></html>"
      ]
     },
     "metadata": {},
     "output_type": "display_data"
    }
   ],
   "source": [
    "SELECT * FROM t2;"
   ]
  },
  {
   "cell_type": "markdown",
   "id": "81a786e3",
   "metadata": {},
   "source": [
    "# Create a table of text UUID"
   ]
  },
  {
   "cell_type": "code",
   "execution_count": 12,
   "id": "e216547a-68ce-42c6-a131-17e0f079544e",
   "metadata": {},
   "outputs": [
    {
     "data": {
      "text/html": []
     },
     "metadata": {},
     "output_type": "display_data"
    }
   ],
   "source": [
    "create or replace table b1 (a text);"
   ]
  },
  {
   "cell_type": "code",
   "execution_count": 13,
   "id": "557ee62c-78fe-41fd-9274-ee8bceee09e8",
   "metadata": {},
   "outputs": [
    {
     "data": {
      "text/html": []
     },
     "metadata": {},
     "output_type": "display_data"
    }
   ],
   "source": [
    "insert into b1 select a from t1;"
   ]
  },
  {
   "cell_type": "code",
   "execution_count": 14,
   "id": "f00dd85a-bc8a-46a3-b5bc-a3dd3529e458",
   "metadata": {},
   "outputs": [
    {
     "data": {
      "text/html": []
     },
     "metadata": {},
     "output_type": "display_data"
    },
    {
     "data": {
      "text/html": []
     },
     "metadata": {},
     "output_type": "display_data"
    },
    {
     "data": {
      "text/html": []
     },
     "metadata": {},
     "output_type": "display_data"
    },
    {
     "data": {
      "text/html": []
     },
     "metadata": {},
     "output_type": "display_data"
    }
   ],
   "source": [
    "INSERT INTO b1 VALUES ('00000000000000000000000000000000');\n",
    "INSERT INTO b1 VALUES ('00000000000000000000000000000001');\n",
    "INSERT INTO b1 VALUES ('fffffffffffffffffffffffffffffffe');\n",
    "INSERT INTO b1 VALUES ('ffffffffffffffffffffffffffffffff');"
   ]
  },
  {
   "cell_type": "markdown",
   "id": "447724e2",
   "metadata": {},
   "source": [
    "# Now alter this table to the UUID data type"
   ]
  },
  {
   "cell_type": "code",
   "execution_count": 15,
   "id": "f99225e1-2261-4d76-a485-e1abc8496d16",
   "metadata": {},
   "outputs": [
    {
     "data": {
      "text/html": []
     },
     "metadata": {},
     "output_type": "display_data"
    }
   ],
   "source": [
    "alter table b1 modify column a uuid;"
   ]
  },
  {
   "cell_type": "code",
   "execution_count": 16,
   "id": "3807a97d-b6bf-4feb-a4b5-0f326ea132d7",
   "metadata": {},
   "outputs": [
    {
     "data": {
      "text/html": [
       "<html><body><table border=\"1\"><tr><th style=\"text-align:left;white-space:pre\">a</th></tr><tr><td style=\"text-align:left;white-space:pre\">00000000-0000-0000-0000-000000000000</td></tr><tr><td style=\"text-align:left;white-space:pre\">ffffffff-ffff-ffff-ffff-ffffffffffff</td></tr><tr><td style=\"text-align:left;white-space:pre\">123e4567-e89b-12d3-a456-426655440000</td></tr><tr><td style=\"text-align:left;white-space:pre\">00000000-0000-0000-0000-000000000000</td></tr><tr><td style=\"text-align:left;white-space:pre\">00000000-0000-0000-0000-000000000001</td></tr><tr><td style=\"text-align:left;white-space:pre\">ffffffff-ffff-ffff-ffff-fffffffffffe</td></tr><tr><td style=\"text-align:left;white-space:pre\">ffffffff-ffff-ffff-ffff-ffffffffffff</td></tr></table></body></html>"
      ]
     },
     "metadata": {},
     "output_type": "display_data"
    }
   ],
   "source": [
    "select * from b1;"
   ]
  },
  {
   "cell_type": "markdown",
   "id": "2b4eee5c",
   "metadata": {},
   "source": [
    "The above conversion has the same effect if the original table was using **CHAR** or **VARCHAR** types containing hexadecimal strings."
   ]
  },
  {
   "cell_type": "markdown",
   "id": "b1968299",
   "metadata": {},
   "source": [
    "# Starting with binary representation of UUIDs"
   ]
  },
  {
   "cell_type": "code",
   "execution_count": 17,
   "id": "d24562cc-7897-4c1e-9eea-61e88e97575d",
   "metadata": {},
   "outputs": [
    {
     "data": {
      "text/html": []
     },
     "metadata": {},
     "output_type": "display_data"
    }
   ],
   "source": [
    "create or replace table b2 (a blob);"
   ]
  },
  {
   "cell_type": "code",
   "execution_count": 18,
   "id": "adc88bc9-b041-4c5a-ab74-022d67afb8d3",
   "metadata": {},
   "outputs": [
    {
     "data": {
      "text/html": []
     },
     "metadata": {},
     "output_type": "display_data"
    },
    {
     "data": {
      "text/html": []
     },
     "metadata": {},
     "output_type": "display_data"
    },
    {
     "data": {
      "text/html": []
     },
     "metadata": {},
     "output_type": "display_data"
    },
    {
     "data": {
      "text/html": []
     },
     "metadata": {},
     "output_type": "display_data"
    }
   ],
   "source": [
    "INSERT INTO b2 VALUES (x'00000000000000000000000000000000');\n",
    "INSERT INTO b2 VALUES (x'00000000000000000000000000000001');\n",
    "INSERT INTO b2 VALUES (x'fffffffffffffffffffffffffffffffe');\n",
    "INSERT INTO b2 VALUES (x'ffffffffffffffffffffffffffffffff');"
   ]
  },
  {
   "cell_type": "code",
   "execution_count": 19,
   "id": "9d9a9d4e-2ba2-4b15-b15e-94d81ae1bb1f",
   "metadata": {},
   "outputs": [
    {
     "data": {
      "text/html": [
       "<html><body><table border=\"1\"><tr><th style=\"text-align:left;white-space:pre\">hex(a)</th></tr><tr><td style=\"text-align:left;white-space:pre\">00000000000000000000000000000000</td></tr><tr><td style=\"text-align:left;white-space:pre\">00000000000000000000000000000001</td></tr><tr><td style=\"text-align:left;white-space:pre\">FFFFFFFFFFFFFFFFFFFFFFFFFFFFFFFE</td></tr><tr><td style=\"text-align:left;white-space:pre\">FFFFFFFFFFFFFFFFFFFFFFFFFFFFFFFF</td></tr></table></body></html>"
      ]
     },
     "metadata": {},
     "output_type": "display_data"
    }
   ],
   "source": [
    "select hex(a) from b2;"
   ]
  },
  {
   "cell_type": "code",
   "execution_count": 20,
   "id": "236fcd87",
   "metadata": {},
   "outputs": [
    {
     "data": {
      "text/html": []
     },
     "metadata": {},
     "output_type": "display_data"
    }
   ],
   "source": [
    "alter table b2 modify column a uuid;"
   ]
  },
  {
   "cell_type": "code",
   "execution_count": 21,
   "id": "6e28cb14",
   "metadata": {},
   "outputs": [
    {
     "data": {
      "text/html": [
       "<html><body><table border=\"1\"><tr><th style=\"text-align:left;white-space:pre\">a</th></tr><tr><td style=\"text-align:left;white-space:pre\">00000000-0000-0000-0000-000000000000</td></tr><tr><td style=\"text-align:left;white-space:pre\">00000000-0000-0000-0000-000000000001</td></tr><tr><td style=\"text-align:left;white-space:pre\">ffffffff-ffff-ffff-ffff-fffffffffffe</td></tr><tr><td style=\"text-align:left;white-space:pre\">ffffffff-ffff-ffff-ffff-ffffffffffff</td></tr></table></body></html>"
      ]
     },
     "metadata": {},
     "output_type": "display_data"
    }
   ],
   "source": [
    "select * from b2;"
   ]
  },
  {
   "cell_type": "markdown",
   "id": "e97c5ab5",
   "metadata": {},
   "source": [
    "The above conversion has the same effect if the original table was using a **BINARY** or **VARBINARY** column type of binary data."
   ]
  },
  {
   "cell_type": "markdown",
   "id": "daaba587",
   "metadata": {},
   "source": [
    "# Casting values as UUID"
   ]
  },
  {
   "cell_type": "code",
   "execution_count": 22,
   "id": "949fa9fa-5c6b-4734-b733-b52ee5b9c322",
   "metadata": {},
   "outputs": [
    {
     "data": {
      "text/html": [
       "<html><body><table border=\"1\"><tr><th style=\"text-align:left;white-space:pre\">CAST('123e4567-e89b-12d3-a456-426655440000' AS UUID)</th></tr><tr><td style=\"text-align:left;white-space:pre\">123e4567-e89b-12d3-a456-426655440000</td></tr></table></body></html>"
      ]
     },
     "metadata": {},
     "output_type": "display_data"
    }
   ],
   "source": [
    "SELECT CAST('123e4567-e89b-12d3-a456-426655440000' AS UUID);"
   ]
  },
  {
   "cell_type": "code",
   "execution_count": 23,
   "id": "1a595af4-0b51-4489-baa8-8b48f4435779",
   "metadata": {},
   "outputs": [
    {
     "data": {
      "text/html": [
       "<html><body><table border=\"1\"><tr><th style=\"text-align:left;white-space:pre\">CAST(x'102030405000000000000000adcefeff' AS UUID)</th></tr><tr><td style=\"text-align:left;white-space:pre\">10203040-5000-0000-0000-0000adcefeff</td></tr></table></body></html>"
      ]
     },
     "metadata": {},
     "output_type": "display_data"
    }
   ],
   "source": [
    "SELECT CAST(x'102030405000000000000000adcefeff' AS UUID);"
   ]
  },
  {
   "cell_type": "code",
   "execution_count": 24,
   "id": "7757b182-01e4-4671-8e3e-4a5a2520a9aa",
   "metadata": {},
   "outputs": [
    {
     "data": {
      "text/html": [
       "<html><body><table border=\"1\"><tr><th style=\"text-align:left;white-space:pre\">CAST('longlive-that-bear-a456-426655440000' AS UUID)</th></tr><tr><td style=\"text-align:left;white-space:pre\">NULL</td></tr></table></body></html>"
      ]
     },
     "metadata": {},
     "output_type": "display_data"
    }
   ],
   "source": [
    "SELECT CAST('longlive-that-bear-a456-426655440000' AS UUID);"
   ]
  },
  {
   "cell_type": "code",
   "execution_count": 25,
   "id": "d6de7eca-7e7f-41e1-b735-058d5e057b51",
   "metadata": {},
   "outputs": [
    {
     "data": {
      "text/html": [
       "<html><body><table border=\"1\"><tr><th style=\"text-align:left;white-space:pre\">Level</th><th style=\"text-align:left;white-space:pre\">Code</th><th style=\"text-align:left;white-space:pre\">Message</th></tr><tr><td style=\"text-align:left;white-space:pre\">Warning</td><td style=\"text-align:left;white-space:pre\">1292</td><td style=\"text-align:left;white-space:pre\">Incorrect uuid value: 'longlive-that-bear-a456-426655440000'</td></tr></table></body></html>"
      ]
     },
     "metadata": {},
     "output_type": "display_data"
    }
   ],
   "source": [
    "SHOW WARNINGS;"
   ]
  }
 ],
 "metadata": {
  "kernelspec": {
   "display_name": "MariaDB",
   "language": "SQL",
   "name": "mariadb_kernel"
  },
  "language_info": {
   "file_extension": ".sql",
   "mimetype": "text/plain",
   "name": "SQL"
  },
  "toc-autonumbering": true,
  "toc-showmarkdowntxt": true
 },
 "nbformat": 4,
 "nbformat_minor": 5
}
